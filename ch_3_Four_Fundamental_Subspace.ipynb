{
 "cells": [
  {
   "cell_type": "markdown",
   "source": [
    "# THE FOUR FUNDAMENTAL SUBSPACE\n"
   ],
   "metadata": {
    "collapsed": false
   },
   "id": "920af631c2bab3e6"
  },
  {
   "cell_type": "markdown",
   "source": [
    "This section will explain the \"big picture\" of linear algebra.\n",
    "\n",
    "**That picture shows how every m by n matrix A leads to four subspaces -- two subspaces of $R^m$ and two more of $R^n$.**\n",
    "\n"
   ],
   "metadata": {
    "collapsed": false
   },
   "id": "d2e40c6fc207204a"
  },
  {
   "cell_type": "markdown",
   "source": [
    "The first example will be a rank one matrix $uv^T$, where the column space is the line through $u$ and the row space is the line through $v$.\n",
    "\n",
    "The second example moves to 2 by 3.\n",
    "\n",
    "The third example (a 5 by 4 matrix A) will be the incidence matrix of a graph.\n",
    "\n",
    "Graphs have become the most important models in the discrete mathematics.\n",
    "\n",
    "All four subspaces have meaning on the graph. "
   ],
   "metadata": {
    "collapsed": false
   },
   "id": "dc068272e39b5b2b"
  },
  {
   "cell_type": "markdown",
   "source": [
    "## EXAMPLE 1\n",
    "\n",
    "$$\n",
    "\n",
    "A\n",
    "\n",
    "=\n",
    "\n",
    "\\begin{bmatrix}\n",
    "\n",
    "1 & 2 \\\\\n",
    "3 & 6 \\\\\n",
    "\n",
    "\\end{bmatrix}\n",
    "\n",
    "=\n",
    "\n",
    "uv^T\n",
    "\n",
    "\\:\\:has\\:m=2\\:and\\:n=2\\:.\n",
    "$$\n",
    "$$\n",
    "\\:We\\:have\\:subspaces\\:of\\:R^2.\n",
    "\n",
    "\n",
    "$$\n",
    "\n"
   ],
   "metadata": {
    "collapsed": false
   },
   "id": "aed5224e7a46bfbf"
  },
  {
   "cell_type": "markdown",
   "source": [
    "1-) The column space C(A) is the line through $u$ = $ \\begin{bmatrix}\n",
    "\n",
    "1  \\\\\n",
    "3  \\\\\n",
    "\n",
    "\\end{bmatrix}\n",
    "\n",
    "$. Column 2 is on that line."
   ],
   "metadata": {
    "collapsed": false
   },
   "id": "62dc4f9b76e6adc0"
  },
  {
   "cell_type": "markdown",
   "source": [
    "2-) The row space $C(A^T)$ is the line through $v$ = $ \\begin{bmatrix}\n",
    "\n",
    "1  \\\\\n",
    "2  \\\\\n",
    "\n",
    "\\end{bmatrix}\n",
    "\n",
    "$. Row 2 of A is on that line."
   ],
   "metadata": {
    "collapsed": false
   },
   "id": "155c63b2a992b4c6"
  },
  {
   "cell_type": "markdown",
   "source": [
    "3-) The  nullspace $N(A)$ is the line through $x$ = $ \\begin{bmatrix}\n",
    "\n",
    "2  \\\\\n",
    "-1  \\\\\n",
    "\n",
    "\\end{bmatrix}\n",
    "\n",
    "$. Then $Ax$=0."
   ],
   "metadata": {
    "collapsed": false
   },
   "id": "32ce9f32d3fb6714"
  },
  {
   "cell_type": "markdown",
   "source": [
    "4-) The  left nullspace $N(A^T)$ is the line through $x$ = $ \\begin{bmatrix}\n",
    "\n",
    "3  \\\\\n",
    "-1  \\\\\n",
    "\n",
    "\\end{bmatrix}\n",
    "\n",
    "$. Then $A^T y$=0."
   ],
   "metadata": {
    "collapsed": false
   },
   "id": "fec2cdddf35862d7"
  },
  {
   "cell_type": "markdown",
   "source": [
    "---------------------------------\n",
    "The column space $C(A)$ contains all combinations of the columns of A.\n",
    "\n",
    "The row space $C(A^T)$ contains all combinations of the columns of $A^T$.\n",
    "\n",
    "The nullspace $N(A)$ contains all solutions x to $Ax$=0\n",
    "\n",
    "The left nullspace $N(A^T)$ contains all solutions $y$ to $A^T y$=0 \n",
    "\n",
    "------------------------------"
   ],
   "metadata": {
    "collapsed": false
   },
   "id": "6bc34ec7635091fc"
  },
  {
   "cell_type": "code",
   "execution_count": null,
   "outputs": [],
   "source": [],
   "metadata": {
    "collapsed": false,
    "ExecuteTime": {
     "end_time": "2024-03-25T03:25:11.715191600Z",
     "start_time": "2024-03-25T03:25:11.684734500Z"
    }
   },
   "id": "f8010ba0bf4beb2b"
  }
 ],
 "metadata": {
  "kernelspec": {
   "display_name": "Python 3",
   "language": "python",
   "name": "python3"
  },
  "language_info": {
   "codemirror_mode": {
    "name": "ipython",
    "version": 2
   },
   "file_extension": ".py",
   "mimetype": "text/x-python",
   "name": "python",
   "nbconvert_exporter": "python",
   "pygments_lexer": "ipython2",
   "version": "2.7.6"
  }
 },
 "nbformat": 4,
 "nbformat_minor": 5
}
