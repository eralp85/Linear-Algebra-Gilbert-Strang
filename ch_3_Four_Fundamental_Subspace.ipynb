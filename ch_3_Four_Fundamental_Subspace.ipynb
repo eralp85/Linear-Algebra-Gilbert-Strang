{
 "cells": [
  {
   "cell_type": "markdown",
   "source": [
    "# THE FOUR FUNDAMENTAL SUBSPACE\n"
   ],
   "metadata": {
    "collapsed": false
   },
   "id": "920af631c2bab3e6"
  },
  {
   "cell_type": "markdown",
   "source": [
    "This section will explain the \"big picture\" of linear algebra.\n",
    "\n",
    "**That picture shows how every m by n matrix A leads to four subspaces -- two subspaces of $R^m$ and two more of $R^n$.**\n",
    "\n"
   ],
   "metadata": {
    "collapsed": false
   },
   "id": "d2e40c6fc207204a"
  },
  {
   "cell_type": "markdown",
   "source": [
    "The first example will be a rank one matrix $uv^T$, where the column space is the line through $u$ and the row space is the line through $v$.\n",
    "\n",
    "The second example moves to 2 by 3.\n",
    "\n",
    "The third example (a 5 by 4 matrix A) will be the incidence matrix of a graph.\n",
    "\n",
    "Graphs have become the most important models in the discrete mathematics.\n",
    "\n",
    "All four subspaces have meaning on the graph. "
   ],
   "metadata": {
    "collapsed": false
   },
   "id": "dc068272e39b5b2b"
  },
  {
   "cell_type": "markdown",
   "source": [
    "## EXAMPLE 1\n",
    "\n",
    "$$\n",
    "\n",
    "A\n",
    "\n",
    "=\n",
    "\n",
    "\\begin{bmatrix}\n",
    "\n",
    "1 & 2 \\\\\n",
    "3 & 6 \\\\\n",
    "\n",
    "\\end{bmatrix}\n",
    "\n",
    "=\n",
    "\n",
    "uv^T\n",
    "\n",
    "\\:\\:has\\:m=2\\:and\\:n=2\\:.\n",
    "$$\n",
    "$$\n",
    "\\:We\\:have\\:subspaces\\:of\\:R^2.\n",
    "\n",
    "\n",
    "$$\n",
    "\n"
   ],
   "metadata": {
    "collapsed": false
   },
   "id": "aed5224e7a46bfbf"
  },
  {
   "cell_type": "markdown",
   "source": [
    "1-) The column space C(A) is the line through $u$ = $ \\begin{bmatrix}\n",
    "\n",
    "1  \\\\\n",
    "3  \\\\\n",
    "\n",
    "\\end{bmatrix}\n",
    "\n",
    "$. Column 2 is on that line."
   ],
   "metadata": {
    "collapsed": false
   },
   "id": "62dc4f9b76e6adc0"
  },
  {
   "cell_type": "markdown",
   "source": [
    "2-) The row space $C(A^T)$ is the line through $v$ = $ \\begin{bmatrix}\n",
    "\n",
    "1  \\\\\n",
    "2  \\\\\n",
    "\n",
    "\\end{bmatrix}\n",
    "\n",
    "$. Row 2 of A is on that line."
   ],
   "metadata": {
    "collapsed": false
   },
   "id": "155c63b2a992b4c6"
  },
  {
   "cell_type": "markdown",
   "source": [
    "3-) The  nullspace $N(A)$ is the line through $x$ = $ \\begin{bmatrix}\n",
    "\n",
    "2  \\\\\n",
    "-1  \\\\\n",
    "\n",
    "\\end{bmatrix}\n",
    "\n",
    "$. Then $Ax$=0."
   ],
   "metadata": {
    "collapsed": false
   },
   "id": "32ce9f32d3fb6714"
  },
  {
   "cell_type": "markdown",
   "source": [
    "4-) The  left nullspace $N(A^T)$ is the line through $x$ = $ \\begin{bmatrix}\n",
    "\n",
    "3  \\\\\n",
    "-1  \\\\\n",
    "\n",
    "\\end{bmatrix}\n",
    "\n",
    "$. Then $A^T y$=0."
   ],
   "metadata": {
    "collapsed": false
   },
   "id": "fec2cdddf35862d7"
  },
  {
   "cell_type": "markdown",
   "source": [
    "---------------------------------\n",
    "The column space $C(A)$ contains all combinations of the columns of A.\n",
    "\n",
    "The row space $C(A^T)$ contains all combinations of the columns of $A^T$.\n",
    "\n",
    "The nullspace $N(A)$ contains all solutions x to $Ax$=0\n",
    "\n",
    "The left nullspace $N(A^T)$ contains all solutions $y$ to $A^T y$=0 \n",
    "\n",
    "------------------------------"
   ],
   "metadata": {
    "collapsed": false
   },
   "id": "6bc34ec7635091fc"
  },
  {
   "cell_type": "markdown",
   "source": [
    "![fig_1_1](./fig_1_1.png)"
   ],
   "metadata": {
    "collapsed": false
   },
   "id": "6a5946a3e0fa817d"
  },
  {
   "cell_type": "markdown",
   "source": [
    "That example had exactly one $u$ and $v$ and $x$ and $y$.\n",
    "\n",
    "All four subspaces were 1 dimensional(just lines).\n",
    "\n",
    "**Always the $u$'s and $v$'s and $x$'s and $y$'s will be independent vectors-they give a \"basis\" for each of the subspace.**\n",
    "\n",
    "A larger matrix will need more than one basis vector per subspace.\n",
    "\n",
    "The choice of basis vectors is a crucial step in computing."
   ],
   "metadata": {
    "collapsed": false
   },
   "id": "5d6e1bb133780945"
  },
  {
   "cell_type": "markdown",
   "source": [
    "## EXAMPLE 2"
   ],
   "metadata": {
    "collapsed": false
   },
   "id": "bcb2964979e08e6b"
  },
  {
   "cell_type": "markdown",
   "source": [
    "$$\n",
    "\n",
    "B\n",
    "\n",
    "=\n",
    "\n",
    "\\begin{bmatrix}\n",
    "\n",
    "1 & -2 & -2 \\\\\n",
    "3 & -6 & -6 \\\\\n",
    "\n",
    "\\end{bmatrix}\n",
    "$$ \n",
    "\n",
    "has $m$ =2 and $n$=3. Subspaces in $R^3$ and $R^2$."
   ],
   "metadata": {
    "collapsed": false
   },
   "id": "43909d19597cfed6"
  },
  {
   "cell_type": "markdown",
   "source": [
    "Going from A to B, two subspaces change and two subspaces do not change.\n",
    "\n",
    "The column space of B is still in $R^2$. It has the same basis vector.\n",
    "\n",
    "But now, there are $n$=3 numbers in the rows of B and left half of below figure is in $R^3$.\n",
    "\n",
    "There is still only one $v$ in the row space!\n",
    "\n",
    "The rank is still $r$=1 because both rows of this B go in the same direction.\n",
    "\n",
    "**With $n$=3 unknowns and only $r$=1 independent equation, $Bx$=0 will have 3-1=2 independent solutions $x_1$ and $x_2$.**\n",
    "\n",
    "All solutions go into the nullspace.\n",
    "\n",
    "$$\n",
    "\n",
    "Bx\n",
    "\n",
    "=\n",
    "\n",
    "\\begin{bmatrix}\n",
    "\n",
    "1 & -2 & -2 \\\\\n",
    "3 & -6 & -6 \\\\\n",
    "\n",
    "\\end{bmatrix}\n",
    "\n",
    "*\n",
    "\n",
    "\\begin{bmatrix}\n",
    "\n",
    "a \\\\\n",
    "b \\\\\n",
    "c \\\\\n",
    "\n",
    "\\end{bmatrix}\n",
    "\n",
    "=\n",
    "\n",
    "\\begin{bmatrix}\n",
    "\n",
    "0 \\\\\n",
    "0 \\\\\n",
    "\n",
    "\\end{bmatrix}\n",
    "\n",
    "$$\n",
    "\n",
    "has solutions\n",
    "\n",
    "$$\n",
    "\n",
    "\n",
    "\n",
    "x_1\n",
    "\n",
    "=\n",
    "\\begin{bmatrix}\n",
    "\n",
    "2 \\\\\n",
    "1 \\\\\n",
    "0 \\\\\n",
    "\n",
    "\\end{bmatrix}\n",
    "\n",
    "\\: and\\:\n",
    "\n",
    "x_2\n",
    "\n",
    "=\n",
    "\\begin{bmatrix}\n",
    "\n",
    "2 \\\\\n",
    "0 \\\\\n",
    "1 \\\\\n",
    "\n",
    "\\end{bmatrix}\n",
    "\n",
    "\n",
    "$$\n",
    "\n"
   ],
   "metadata": {
    "collapsed": false
   },
   "id": "3c05749cbaaa46ba"
  },
  {
   "cell_type": "markdown",
   "source": [
    "Those vectors $x_1$ and $x_2$ are called special solutions.\n",
    "\n",
    "They come from the steps of elimination--and you quickly see that $Bx_1$ = 0 and $Bx_2$=0."
   ],
   "metadata": {
    "collapsed": false
   },
   "id": "a57a96dbdab11f14"
  },
  {
   "cell_type": "markdown",
   "source": [
    "But those are not perfect choices in the nullspace of B because the vectors $x_1$ and $x_2$ are not perpendicular.(Dikey)\n",
    "\n",
    "We will give strong preference to perpendicular basis vectors.\n",
    "\n",
    "Our nullspace $N(B)$ is a plane in $R^3$.\n",
    "\n",
    "We can see an orthonormal basis $v_2$ and $v_3$ in that plane.\n",
    "\n",
    "The $v_2$ and $v_3$ axes make a 90 degree angle with each other and with $v_1$."
   ],
   "metadata": {
    "collapsed": false
   },
   "id": "a9d69d728aa97602"
  },
  {
   "cell_type": "code",
   "execution_count": null,
   "outputs": [],
   "source": [],
   "metadata": {
    "collapsed": false
   },
   "id": "b88609eee0fea594"
  }
 ],
 "metadata": {
  "kernelspec": {
   "display_name": "Python 3",
   "language": "python",
   "name": "python3"
  },
  "language_info": {
   "codemirror_mode": {
    "name": "ipython",
    "version": 2
   },
   "file_extension": ".py",
   "mimetype": "text/x-python",
   "name": "python",
   "nbconvert_exporter": "python",
   "pygments_lexer": "ipython2",
   "version": "2.7.6"
  }
 },
 "nbformat": 4,
 "nbformat_minor": 5
}
