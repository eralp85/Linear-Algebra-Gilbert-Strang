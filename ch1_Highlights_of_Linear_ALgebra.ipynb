{
 "cells": [
  {
   "cell_type": "markdown",
   "source": [
    "# HIGHLIGHTS of LINEAR ALGEBRA\n"
   ],
   "metadata": {
    "collapsed": false
   },
   "id": "495522551711cee1"
  },
  {
   "cell_type": "markdown",
   "source": [
    "## Multiplication A$x$ Using Column of A"
   ],
   "metadata": {
    "collapsed": false
   },
   "id": "556b3c6e39c99e89"
  },
  {
   "cell_type": "markdown",
   "source": [
    "This first section of the book is about matrix-vector multiplication A$x$ and the column space of a matrix and the rank.\n",
    "\n",
    "Example 1:\n",
    "\n",
    "Multiply A times **x** using the three rows of A.\n",
    "\n",
    "\n"
   ],
   "metadata": {
    "collapsed": false
   },
   "id": "8efa64cfaa5204e8"
  },
  {
   "cell_type": "markdown",
   "source": [
    "**By Rows**\n",
    "\n",
    "$$\n",
    "\n",
    "\\begin{bmatrix}\n",
    "\n",
    "2 & 3 \\\\\n",
    "2 & 4 \\\\\n",
    "3 & 7 \\\\\n",
    "\n",
    "\\end{bmatrix}\n",
    "\n",
    "*\n",
    "\n",
    "\\begin{bmatrix}\n",
    "\n",
    "x_1 \\\\\n",
    "x_2 \\\\\n",
    "\n",
    "\\end{bmatrix}\n",
    "\n",
    "=\n",
    "\n",
    "\\begin{bmatrix}\n",
    "\n",
    "2x_1 + 3x_2 \\\\\n",
    "2x_1 + 4x_2 \\\\\n",
    "3x_1 + 7x_2 \\\\\n",
    "\n",
    "\\end{bmatrix}\n",
    "\n",
    "$$\n",
    "\n",
    "==> **inner products of the rows with **x** = (x1, x2)**"
   ],
   "metadata": {
    "collapsed": false
   },
   "id": "401a7415eb6f01f2"
  },
  {
   "cell_type": "markdown",
   "source": [
    "**By Column**\n",
    "\n",
    "\n",
    "$$\n",
    "\n",
    "\\begin{bmatrix}\n",
    "\n",
    "2 & 3 \\\\\n",
    "2 & 4 \\\\\n",
    "3 & 7 \\\\\n",
    "\n",
    "\\end{bmatrix}\n",
    "\n",
    "*\n",
    "\n",
    "\\begin{bmatrix}\n",
    "\n",
    "x_1 \\\\\n",
    "x_2 \\\\\n",
    "\n",
    "\\end{bmatrix}\n",
    "\n",
    "=\n",
    "\n",
    "x_1 \n",
    "*\n",
    "\\begin{bmatrix}\n",
    "2 \\\\\n",
    "2 \\\\\n",
    "3 \\\\\n",
    "\\end{bmatrix}\n",
    "\n",
    "+\n",
    "\n",
    "x_2\n",
    "*\n",
    "\\begin{bmatrix}\n",
    "\n",
    "3 \\\\\n",
    "4 \\\\\n",
    " 7 \\\\\n",
    "\n",
    "\\end{bmatrix}\n",
    "\n",
    "$$\n",
    "\n",
    "\n",
    "==> **combination of the columns a_1 and a_2**"
   ],
   "metadata": {
    "collapsed": false
   },
   "id": "18e45d0466aa04b1"
  },
  {
   "cell_type": "code",
   "execution_count": 21,
   "outputs": [
    {
     "data": {
      "text/plain": "array([[ 4,  6],\n       [ 4,  8],\n       [ 6, 14]])"
     },
     "execution_count": 21,
     "metadata": {},
     "output_type": "execute_result"
    }
   ],
   "source": [
    "import numpy as np\n",
    "\n",
    "x1=2\n",
    "x2=2\n",
    "\n",
    "a1 = np.array([[2,3],[2,4],[3,7]]) \n",
    "a2 = np.array([x1, x2])\n",
    "\n",
    "a1*a2"
   ],
   "metadata": {
    "collapsed": false,
    "ExecuteTime": {
     "end_time": "2024-03-14T03:05:45.298077500Z",
     "start_time": "2024-03-14T03:05:45.176185500Z"
    }
   },
   "id": "41b3da14bb02e621"
  },
  {
   "cell_type": "markdown",
   "source": [
    "Both by rows method and by columns method give the same result.\n",
    "\n",
    "The first wat (a row at a time) produces three inner products.\n",
    "\n",
    "Those are known as **dot product** because of dot notation.\n",
    "$$\n",
    "\n",
    "row * column = (2,3) . ($x_1$,$x_2$) = 2x_1 + 3x_2\n",
    "\n",
    "$$\n",
    "\n",
    "This is the way to find three separate components of Ax.\n",
    "\n",
    "We use this for computing but not for understanding. It is low level.\n",
    "\n",
    "Understanding is higher level, using vectors.\n"
   ],
   "metadata": {
    "collapsed": false
   },
   "id": "d159342844601c98"
  },
  {
   "cell_type": "markdown",
   "source": [
    "The vector approach sees $Ax$ as a linear combination of $a_1$ and $a_2$. This is the fundamental operation of linear algebra!!!\n",
    "\n",
    "A linear combination of $a_1$ and $a_2$ includes two steps:\n",
    "\n",
    "1- Multiply the column $a_1$ and $a_2$ by scalars $x_1$ and $x_2$\n",
    "\n",
    "2- Add vectors $x_1$$a_1$ + $x_2$$a_2$ = A$x$ \n"
   ],
   "metadata": {
    "collapsed": false
   },
   "id": "5e09b08fa437f9e0"
  },
  {
   "cell_type": "markdown",
   "source": [
    "**THUS, A$x$ is a LINEAR COMBINATION OF COLUMNS OF A. THIS IS FUNDAMENTAL.**"
   ],
   "metadata": {
    "collapsed": false
   },
   "id": "6cb0c3906af5bf8a"
  },
  {
   "cell_type": "markdown",
   "source": [
    "This thinking leads us to column space of A. \n",
    "\n",
    "The key idea is to take all combinations of the columns.\n",
    "\n",
    "All real numbers $x_1$ and $x_2$ are allowed-the space includes A$x$ for all vectors $x$.\n",
    "\n",
    "In this way, we get infinitely many output vectors A$x$. And we can see those outputs geometrically.\n",
    "\n",
    "In our example, each A$x$ is a vector in 3 dimensional space. That 3D space is called$R^3$. (The $R$ indicates real numbers.)\n",
    "\n",
    "We stay with real vectors and we ask this key question:\n",
    "\n",
    "**All combination $A$$x$ = $x_1$$a_1$ + $x_2$$a_2$ produce what part of the full 3D space?** "
   ],
   "metadata": {
    "collapsed": false
   },
   "id": "ed8b718a950a7f2"
  },
  {
   "cell_type": "markdown",
   "source": [
    "**ANSWER:**\n",
    "\n",
    "Those vectors produce a **PLANE**.\n",
    "\n",
    "The plane contains the complete line in a direction of $a_1$ = (2,2,3), since evey vector $x_1$$a_1$ is included.\n",
    "\n",
    "The place also includes the line of all vectors $x_2$$a_2$ in the direction of $a_2$.\n",
    "\n",
    "And it includes the sum of any vector on one line plus any vector on the other line.\n",
    "\n",
    "**This addition fills out an infinite plane containing the two lines.**\n",
    "\n",
    "But it does not fill out the whole 3-dimensional space $R^3$"
   ],
   "metadata": {
    "collapsed": false
   },
   "id": "6cef3c9c67d4485e"
  },
  {
   "cell_type": "markdown",
   "source": [
    "**DEFINITION:**\n",
    "\n",
    "**The Combination of the columns fill out the column space of A**"
   ],
   "metadata": {
    "collapsed": false
   },
   "id": "93d692d8b7299909"
  },
  {
   "cell_type": "markdown",
   "source": [
    "Here the column space is a plane. That plane includes the zero point (0,0,0) which is produced when $x_1$ = $x_2$ = 0.\n",
    "\n",
    "The plane includes (5,6,10) = $a_1$ + $a_2$ and (-1,-2,-4) = $a_1$ - $a_2$.\n",
    "\n",
    "Every combination $x_1$$a_1$ + $x_2$$a_2$ is in this column space.\n",
    "\n",
    "With probability 1 it does not include the random point rand(3,1)! \n",
    "\n",
    "Which points are in the plane?"
   ],
   "metadata": {
    "collapsed": false
   },
   "id": "c2da6b4e3601c4bf"
  },
  {
   "cell_type": "markdown",
   "source": [
    "----------------------------------------------\n",
    "\n",
    "$b$ = ($b_1$, $b_2$, $b_3$) is in the column space of **A exactly when $A$$x$ = $b$** has a solution ($x_1$,$x_2$). \n",
    "\n",
    "----------------------------------------------\n"
   ],
   "metadata": {
    "collapsed": false
   },
   "id": "7119a7cbc2a1d54c"
  },
  {
   "cell_type": "markdown",
   "source": [
    "When you see that truth, you understand the column space C(A): \n",
    "\n",
    "The solution $x$ shows how to express the right side $b$ as a combination $x_1$$a_1$ + $x_2$$a_2$ of the columns.\n",
    "\n",
    "For some $b$ this is impossible as they are not in the column space.\n",
    "\n"
   ],
   "metadata": {
    "collapsed": false
   },
   "id": "304d558c5bf859b2"
  },
  {
   "cell_type": "markdown",
   "source": [
    "**EXAMPLE-2**\n",
    "\n",
    "$$\n",
    "\n",
    "b \n",
    "\n",
    "=\n",
    "\n",
    "\\begin{bmatrix}\n",
    "\n",
    "1 \\\\\n",
    "1 \\\\\n",
    "1 \\\\\n",
    "\n",
    "\\end{bmatrix}\n",
    "$$\n",
    "\n",
    "is not in $C$(A).\n",
    "\n",
    "$$\n",
    "A$x$ \n",
    "\n",
    "= \n",
    "\n",
    "\\begin{bmatrix}\n",
    "\n",
    "2$x_1$ & 3$x_2$ \\\\\n",
    "2$x_1$ & 4$x_2$ \\\\\n",
    "3$x_1$ & 7$x_2$ \\\\\n",
    "\n",
    "\\end{bmatrix}\n",
    "\n",
    "=\n",
    "\\begin{bmatrix}\n",
    "\n",
    "1 \\\\\n",
    "1 \\\\\n",
    "1 \\\\\n",
    "\n",
    "\\end{bmatrix}\n",
    "\n",
    "$$\n",
    "\n",
    "*is unsolvable.*\n",
    "\n",
    "The first two equations force $x_1$ = 1/2 and $x_2$ = 0.\n",
    "\n",
    "Then equation 3 fails: 3 * (1/2) + 7 * (0) = 1.5 (**not 1**)\n",
    "\n",
    "This means that $b$ = (1,1,1) is not in the column space - the pace of $a_1$ and $a_2$."
   ],
   "metadata": {
    "collapsed": false
   },
   "id": "59a5aa4290e14464"
  },
  {
   "cell_type": "markdown",
   "source": [
    "**EXAMPLE-3**\n",
    "\n",
    "What are the column spaces of \n",
    "$$\n",
    "\n",
    "$A_2$ \n",
    "\n",
    "=\n",
    "\n",
    "\\begin{bmatrix}\n",
    "\n",
    "2 & 3 & 5 \\\\\n",
    "2 & 4 & 6 \\\\\n",
    "3 & 7 & 10 \\\\\n",
    "\n",
    "\\end{bmatrix}\n",
    "$$\n",
    "\n",
    "and\n",
    "\n",
    "$$\n",
    "\n",
    "$A_3$ \n",
    "\n",
    "=\n",
    "\n",
    "\\begin{bmatrix}\n",
    "\n",
    "2 & 3 & 1 \\\\\n",
    "2 & 4 & 1 \\\\\n",
    "3 & 7 & 1 \\\\\n",
    "\n",
    "\\end{bmatrix}\n",
    "$$\n"
   ],
   "metadata": {
    "collapsed": false
   },
   "id": "f2fe9dd9cc89b457"
  },
  {
   "cell_type": "markdown",
   "source": [
    "**SOLUTION:**\n",
    "\n",
    "The column space of $A_2$ is the same plane as before.\n",
    "\n",
    "The new column (5,6,10) is the sum of column 1 + column 2.\n",
    "\n",
    "So $a_3$ = column 3 is already in the plane and adds nothing new.\n",
    "\n",
    "By including this \"dependent\" column we do not go beyond the original plane.\n",
    "\n",
    "The column space of $A_3$ is the whole 3D space $R^3$.\n",
    "\n",
    "Example 3 showed us that the new third column (1,1,1) is not in the plane C(A).\n",
    "\n",
    "Our column space C($A_3$) has grown bigger.\n",
    "\n",
    "But there is nowhere to stop between a plane and the full 3D space.\n",
    "\n",
    "Visualize the x-y plane and a third vector ($x_3$, $y_3$, $z_3$) out of the plane (meaning that $z_3$ ≠ 0)\n",
    "\n",
    "They combine to give every vector in $R^3$."
   ],
   "metadata": {
    "collapsed": false
   },
   "id": "fbc37cc7b5499258"
  },
  {
   "cell_type": "markdown",
   "source": [
    "Here is a total list of all possible column spaces inside $R^3$. \n",
    "\n",
    "Dimensions 0,1,2,3:\n",
    "\n",
    "**Subspaces of $R^3$:**\n",
    "\n",
    "- The **zero vector** (0,0,0) by itself.\n",
    "- The **line** of all vectors $x_1$$a_1$.\n",
    "- The **plane** of all vectors $x_1$$a_1$ + $x_2$$a_2$.\n",
    "- The **whole $R^3$** with all vectors $x_1$$a_1$ + $x_2$$a_2$ + $x_3$$a_3$  "
   ],
   "metadata": {
    "collapsed": false
   },
   "id": "81276f1eceabb2a5"
  },
  {
   "cell_type": "markdown",
   "source": [
    "In that list we need the vectors $a_1$, $a_2$, $a_3$ to be **independent**.\n",
    "\n",
    "The only combination that gives the zero vector is 0$a_1$ + 0$a_2$ + 0$a_3$.\n",
    "\n",
    "So $a_1$ by itselfgives a line $a_1$ amd $a_2$ give a plane, $a_1$ and $a_2$ and $a_3$ give every vector $b$ in $R^3$.\n",
    "\n",
    "**The zero vector is in every subspace!**\n",
    "\n"
   ],
   "metadata": {
    "collapsed": false
   },
   "id": "5221926d714b3957"
  },
  {
   "cell_type": "markdown",
   "source": [
    "In linear algebra language:\n",
    "\n",
    "- Three independent column in $R^3$ produce an *invertible matrix*: $A$$A^-^1$ = $A^-^1$$A$ = $I$\n",
    "\n",
    "- A$x$ = 0 requires $x$ = (0,0,0). Then A$x$=$b$ has exactly one solution $x$ = $A^-^1$$b$."
   ],
   "metadata": {
    "collapsed": false
   },
   "id": "38c871a6137c9a2"
  },
  {
   "cell_type": "markdown",
   "source": [
    "You see that the picture for the columns of an n by n invertible matrix.\n",
    "\n",
    "Their combinations fill its column space: **all of $R^n$."
   ],
   "metadata": {
    "collapsed": false
   },
   "id": "6f4a2c7043937345"
  },
  {
   "cell_type": "markdown",
   "source": [
    "## INDEPENDENT COLUMNS AND THE RANK OF A"
   ],
   "metadata": {
    "collapsed": false
   },
   "id": "52f644a21eb1efb5"
  },
  {
   "cell_type": "markdown",
   "source": [
    "With just a small effort, we can find a basis for the column space of A, we can **factor** A into C times R and we can prove the first great theorem in linear algebra.\n",
    "\n",
    "You will see the rank of a matrix and the dimension of a subspace.\n",
    "\n",
    "All of this comes with an understanding of **independence**.\n",
    "\n",
    "The goal is to create a matrix C whose columns come directly from A- but not to include any column that is a combination of previous columns.\n",
    "\n",
    "The columns of C (as many as possible) will be *independent*.\n",
    "\n",
    "Here is a natural construction of C from the $n$ columns of A:\n",
    "\n",
    "- If column 1 of A is all zero, put it into the matrix C.\n",
    "\n",
    "- If column 2 of A is not a multiple of column 1, put it into C.\n",
    "\n",
    "- If column 3 of A is not a combination of columns 1 and 2, put it into C. \n",
    "\n",
    "- Continue...\n",
    "\n",
    "At the end, C will have r columns (r<=n).\n",
    "\n",
    "They will be a *basis* for the column space of A.\n",
    "\n",
    "The left out columns are combinations of those basic column in C.\n",
    "\n",
    "**A basis for a subspace is full set of independent vectors:**\n",
    "\n",
    "**All vectors in the space are combinations of the basis vectors.**  "
   ],
   "metadata": {
    "collapsed": false
   },
   "id": "6cdc928c8c856cea"
  },
  {
   "cell_type": "markdown",
   "source": [
    "**EXAMPLE-4**\n",
    "\n",
    "If \n",
    "\n",
    "$$\n",
    "\n",
    "A \n",
    "\n",
    "=\n",
    "\n",
    "\\begin{bmatrix}\n",
    "\n",
    "1 & 3 & 8 \\\\\n",
    "1 & 2 & 6 \\\\\n",
    "0 & 1 & 2 \\\\\n",
    "\n",
    "\\end{bmatrix}\n",
    "\n",
    "$$ \n",
    "\n",
    "**THEN -->**\n",
    "$$\n",
    "C\n",
    "\n",
    "=\n",
    "\n",
    "\\begin{bmatrix}\n",
    "\n",
    "1 & 3 \\\\\n",
    "1 & 2  \\\\\n",
    "0 & 1  \\\\\n",
    "\n",
    "\\end{bmatrix}\n",
    "$$\n",
    "\n",
    "n = 3 columns in A\n",
    "r = 2 columns in C\n",
    "\n",
    "Column 3 of A is 2(column1) and 2(column2).\n",
    "\n",
    "Leave it out of the basis in C."
   ],
   "metadata": {
    "collapsed": false
   },
   "id": "dd4ec5444452d2fa"
  },
  {
   "cell_type": "markdown",
   "source": [
    "**EXAMPLE - 5**\n",
    "\n",
    "\n",
    "If \n",
    "\n",
    "$$\n",
    "\n",
    "A \n",
    "\n",
    "=\n",
    "\n",
    "\\begin{bmatrix}\n",
    "\n",
    "1 & 2 & 3 \\\\\n",
    "0 & 4 & 5 \\\\\n",
    "0 & 0 & 6 \\\\\n",
    "\n",
    "\\end{bmatrix}\n",
    "\n",
    "$$ \n",
    "\n",
    "**THEN -->**\n",
    "$$\n",
    "C\n",
    "\n",
    "=\n",
    "\n",
    "A\n",
    "$$\n",
    "\n",
    "n = 3 columns in A\n",
    "r = 3 columns in C\n",
    "\n",
    "This matrix A is invertible. Its column space is all of $R^3$. Keep all 3 columns.\n",
    "\n"
   ],
   "metadata": {
    "collapsed": false
   },
   "id": "a7e8a9aae2c22f5e"
  },
  {
   "cell_type": "markdown",
   "source": [
    "**EXAMPLE - 6**\n",
    "\n",
    "\n",
    "\n",
    "If \n",
    "\n",
    "$$\n",
    "\n",
    "A \n",
    "\n",
    "=\n",
    "\n",
    "\\begin{bmatrix}\n",
    "\n",
    "1 & 2 & 5 \\\\\n",
    "1 & 2 & 5 \\\\\n",
    "1 & 2 & 5 \\\\\n",
    "\n",
    "\\end{bmatrix}\n",
    "\n",
    "$$ \n",
    "\n",
    "**THEN -->**\n",
    "$$\n",
    "C\n",
    "\n",
    "=\n",
    "\n",
    "\\begin{bmatrix}\n",
    "\n",
    "1  \\\\\n",
    "1  \\\\\n",
    "1  \\\\\n",
    "\n",
    "\\end{bmatrix}\n",
    "$$\n",
    "\n",
    "n = 3 columns in A\n",
    "r = 1 columns in C"
   ],
   "metadata": {
    "collapsed": false
   },
   "id": "b8ca5117ffd954bc"
  },
  {
   "cell_type": "markdown",
   "source": [
    "The number $r$ is the **rank** of A.\n",
    "\n",
    "It is also the rank of C.\n",
    "\n",
    "**It counts independent columns.**\n",
    "\n",
    "Admittedly, we could have moved from right to left in A, starting with its last column.\n",
    "\n",
    "This would not change the final count $r$.\n",
    "\n",
    "*Different basis, but always the same number of vectors.*\n",
    "\n",
    "That number $r$ is the **dimension** of the column space of A and C.\n",
    "\n"
   ],
   "metadata": {
    "collapsed": false
   },
   "id": "4e078b2709de8ac9"
  },
  {
   "cell_type": "markdown",
   "source": [
    "-------------------------------------------------\n",
    "\n",
    "**The Rank of a Matrix is the Dimension of its Column Space**\n",
    "\n",
    "-------------------------------"
   ],
   "metadata": {
    "collapsed": false
   },
   "id": "de7dba07fd509df4"
  },
  {
   "cell_type": "markdown",
   "source": [
    "The matrix C connects to A by a third matrix R:\n",
    "\n",
    "$$\n",
    "\n",
    "A = CR\n",
    "\n",
    "$$\n",
    "\n",
    "Their shapes are (m by n) = (m by r) (r by n).\n",
    "\n",
    "We can show this *factorization of A* in Example 4: \n",
    "\n",
    "$$\n",
    "\n",
    " \n",
    "\n",
    "A\n",
    "\n",
    "= \n",
    "\n",
    "\\begin{bmatrix}\n",
    "\n",
    "1 & 3 & 8 \\\\\n",
    "1 & 2 & 6 \\\\\n",
    "0 & 1 & 2 \\\\\n",
    "\n",
    "\\end{bmatrix}\n",
    "\n",
    "==\n",
    "\n",
    "\\begin{bmatrix}\n",
    "\n",
    "1 & 3  \\\\\n",
    "1 & 2  \\\\\n",
    "0 & 1  \\\\\n",
    "\n",
    "\\end{bmatrix}\n",
    "\n",
    "\\begin{bmatrix}\n",
    "\n",
    "1 & 0 & 2 \\\\\n",
    "0 & 1 & 2 \\\\\n",
    "\n",
    "\\end{bmatrix}\n",
    "\n",
    "==\n",
    "\n",
    "$CR$\n",
    "\n",
    "\n",
    "\n",
    "\n",
    "$$"
   ],
   "metadata": {
    "collapsed": false
   },
   "id": "3194443d7c3542a0"
  },
  {
   "cell_type": "markdown",
   "source": [
    "When C multiplies the first column $ \\begin{bmatrix} 1 \\\\ 0 \\\\ \\end{bmatrix}$ of R, this produces column 1 of C and A.\n",
    "\n",
    "When C multiplies the second column $ \\begin{bmatrix} 0 \\\\ 1 \\\\ \\end{bmatrix}$ of R, we get column 2 of C and A.\n",
    "\n",
    "When C multiplies the third column $ \\begin{bmatrix} 2 \\\\ 2 \\\\ \\end{bmatrix}$ of R, we get 2 (column 1) + 2 (column2).\n",
    "\n"
   ],
   "metadata": {
    "collapsed": false
   },
   "id": "2a7006692c4fcd23"
  },
  {
   "cell_type": "markdown",
   "source": [
    "This matches column 3 of A.\n",
    "\n",
    "All we are doing is to put the right numbvers in R.\n",
    "\n",
    "Combinations of the columns of C produce the columns of A.\n",
    "\n",
    "Then A = CR stores this information as a matrix multiplication.\n",
    "\n",
    "Actually R is a famous matrix in linear algebra.\n",
    "\n",
    "$$\n",
    "\n",
    "**R = rref(A) = row-reduced echelon form of A** (without zero rows).\n",
    "\n",
    "$$"
   ],
   "metadata": {
    "collapsed": false
   },
   "id": "d2a8b01afe29025a"
  },
  {
   "cell_type": "markdown",
   "source": [
    "Example 5 has C = A and the R = I (identity matrix)\n",
    "\n",
    "Example 6 has only one column in C, so it has one row in R:\n",
    "\n",
    "$$\n",
    "A\n",
    "\n",
    "= \n",
    "\n",
    "\\begin{bmatrix}\n",
    "\n",
    "1 & 2 & 5 \\\\\n",
    "1 & 2 & 5 \\\\\n",
    "1 & 2 & 5 \\\\\n",
    "\n",
    "\\end{bmatrix}\n",
    "\n",
    "==\n",
    "\n",
    "\\begin{bmatrix}\n",
    "\n",
    "1   \\\\\n",
    "1   \\\\\n",
    "1  \\\\\n",
    "\n",
    "\\end{bmatrix}\n",
    "\n",
    "\\begin{bmatrix}\n",
    "\n",
    "1 & 2 & 5 \\\\\n",
    "\n",
    "\\end{bmatrix}\n",
    "\n",
    "==\n",
    "\n",
    "$CR$\n",
    "\n",
    "$$"
   ],
   "metadata": {
    "collapsed": false
   },
   "id": "b1d72448d5f185cb"
  },
  {
   "cell_type": "markdown",
   "source": [
    "All three matrices have rank r = 1.\n",
    "\n",
    "**Column Rank = Row Rank**\n",
    "\n"
   ],
   "metadata": {
    "collapsed": false
   },
   "id": "b6b8c8c97e2ad4c0"
  },
  {
   "cell_type": "markdown",
   "source": [
    "--------------------------------------------------\n",
    "The number of independent columns equals the numbver of independent rows.\n",
    "\n",
    "---------------------------------"
   ],
   "metadata": {
    "collapsed": false
   },
   "id": "bc48664eeffa3d52"
  },
  {
   "cell_type": "markdown",
   "source": [
    "This rank theorem is true for every matrix.\n",
    "\n",
    "Always columns and rows in linear algebra.\n",
    "\n",
    "The m rows contain the same number of $a_i_j$ as the n columns. But different vectors.\n",
    "\n",
    "The theorem is proved by A = CR.\n",
    "\n",
    "Look at that differently by rows instead of columns.\n",
    "\n",
    "The matrix R has r rows.\n",
    "\n",
    "Multiplying by C takes combinations of those rows.\n",
    "\n",
    "Since A = CR, we get every row of A from the r rows of R.\n",
    "\n",
    "And those r rows are independent, so they are a basis for the row space of A.\n",
    "\n",
    "The column space and row space of A both have dimension r, with r basis vectors --column of C and rows of R.\n",
    "\n",
    "One minute: Why does R have independent rows?\n",
    "\n",
    "$$\n",
    "\n",
    "\n",
    "\n",
    "A\n",
    "\n",
    "= \n",
    "\n",
    "\\begin{bmatrix}\n",
    "\n",
    "1 & 3 & 8 \\\\\n",
    "1 & 2 & 6 \\\\\n",
    "0 & 1 & 2 \\\\\n",
    "\n",
    "\\end{bmatrix}\n",
    "\n",
    "==\n",
    "\n",
    "\\begin{bmatrix}\n",
    "\n",
    "1 & 3  \\\\\n",
    "1 & 2  \\\\\n",
    "0 & 1  \\\\\n",
    "\n",
    "\\end{bmatrix}\n",
    "\n",
    "\\begin{bmatrix}\n",
    "\n",
    "1 & 0 & 2 \\\\ \n",
    "0 & 1 & 2 \\\\ \n",
    "\n",
    "\\end{bmatrix}\n",
    "\n",
    "\\begin{vmatrix}\n",
    "\n",
    "<-- & Independent \\\\\n",
    "<-- & rows of R \\\\\n",
    "\n",
    "\\end{vmatrix}\n",
    "\n",
    "$$\n"
   ],
   "metadata": {
    "collapsed": false
   },
   "id": "3611b34239fb6f49"
  },
  {
   "cell_type": "markdown",
   "source": [
    "It is those ones and zeros in R that tell me: No rows is a combination of the other rows.\n",
    "\n",
    "The big factorization for data science is the *SVD* of A -- When the first factor C has r orthogonal columns and the second factor R has r orthogonal rows."
   ],
   "metadata": {
    "collapsed": false
   },
   "id": "ea93dbbd087ef731"
  },
  {
   "cell_type": "code",
   "execution_count": 21,
   "outputs": [],
   "source": [],
   "metadata": {
    "collapsed": false,
    "ExecuteTime": {
     "end_time": "2024-03-14T03:05:45.298077500Z",
     "start_time": "2024-03-14T03:05:45.238685600Z"
    }
   },
   "id": "cbea7b8f57b82a33"
  }
 ],
 "metadata": {
  "kernelspec": {
   "display_name": "Python 3",
   "language": "python",
   "name": "python3"
  },
  "language_info": {
   "codemirror_mode": {
    "name": "ipython",
    "version": 2
   },
   "file_extension": ".py",
   "mimetype": "text/x-python",
   "name": "python",
   "nbconvert_exporter": "python",
   "pygments_lexer": "ipython2",
   "version": "2.7.6"
  }
 },
 "nbformat": 4,
 "nbformat_minor": 5
}
