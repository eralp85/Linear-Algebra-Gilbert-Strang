{
 "cells": [
  {
   "cell_type": "markdown",
   "source": [
    "# EIGENVALUES AND EIGENVECTORS"
   ],
   "metadata": {
    "collapsed": false
   },
   "id": "779ba54dfc5d7a19"
  },
  {
   "cell_type": "markdown",
   "source": [
    "The eigenvectors of A do not change directions when you multiply them by A.\n",
    "\n",
    "The output $Ax$ is on the same line as the input vector $x$.\n",
    "\n",
    "$$\n",
    "\n",
    "x \n",
    "\n",
    "=\n",
    "\n",
    "eigenvector\\:of\\:A \\\\\n",
    "\n",
    "λ \n",
    "\n",
    "=\n",
    "\n",
    "eigenvalue\\:of\\:A \\\\\n",
    "$$\n",
    "\n",
    "$$\n",
    "\n",
    "Ax = λx\n",
    "\n",
    "$$"
   ],
   "metadata": {
    "collapsed": false
   },
   "id": "3908ab5a861495fc"
  },
  {
   "cell_type": "markdown",
   "source": [
    "The eigenvector x is just multiplied by its eigenvalue λ.\n",
    "\n",
    "**Multiply again by A, to see that $x$ is also an eigenvector of $A^2$:** $A^2 x$ = $ λ^2 x$.\n",
    "\n",
    "$$\n",
    "\n",
    "x \n",
    "\n",
    "=\n",
    "\n",
    "same\\:eigenvector\n",
    "\\\\\n",
    "λ^2\n",
    "\n",
    "=\n",
    "\n",
    "squared\\:eigenvalue\\\\\n",
    "\n",
    "A(Ax) = A(λx) = λ(Ax) = λ^2 x\n",
    "\n",
    "$$\n",
    "\n",
    "Certainly $A^k x$ = $λ^k x$ for all k= 1,2,3,...\n",
    "\n",
    "And $A^-^1 x$ = $\\frac{1}{λ} x$ provided λ =! 0 "
   ],
   "metadata": {
    "collapsed": false
   },
   "id": "8ca462670bb05d27"
  },
  {
   "cell_type": "markdown",
   "source": [
    "These eigenvectors are special vectors that depend on A.\n",
    "\n",
    "Most n by n matrices have n independent eigenvectors $x_1$ to $x_n$ with n different eigenvalues $λ_1$ to $λ_n$.\n",
    "\n",
    "In that case every n-dimensional vector $v$ will be a combination of the eigenvectors:\n",
    "\n"
   ],
   "metadata": {
    "collapsed": false
   },
   "id": "65a4e1e5b8645a75"
  },
  {
   "cell_type": "markdown",
   "source": [
    "------------------------------------------------\n",
    "\n",
    "$$\n",
    "\n",
    "Every\\:\\:v \\:\\:\\:\\:\\:\\:\\:\\:\\: \\:\\:\\:\\:\\:\\:\\:\\:\\:\\:\\:\\:\\:\\:\\:\\:\\:\\:\\:\\:\\:\\:\\:v\\: \\:\\: =c_1x_1\\:+\\:...\\:+\\:c_nx_n\n",
    "\\\\\n",
    "Multiply\\: by \\:A\\:\\:\\:\\:\\:\\:\\:\\:\\: \\:\\:\\:\\:\\:\\:\\:\\:\\:\\:\\:\\: Av=c_1λ_1x_1\\:+\\:...\\:+\\:c_nλ_nx_n\n",
    "\\\\\n",
    "\n",
    "Multiply\\: by \\:A^k\\:\\:\\:\\:\\:\\:\\:\\:\\: \\:\\:\\:\\:\\:\\:\\:\\: A^kv=c_1λ^k_1x_1\\:+\\:...\\:+\\:c_nλ^k_nx_n\\\\\n",
    "\n",
    "\n",
    "$$\n",
    "\n",
    "\n",
    "\n",
    "\n",
    "---------------------------------------\n"
   ],
   "metadata": {
    "collapsed": false
   },
   "id": "c5fadf1cb80a77b5"
  },
  {
   "cell_type": "markdown",
   "source": [
    "Here you see how eigenvalues and eigenvectors are useful.\n",
    "\n",
    "They look into the heart of a matrix.\n",
    "\n",
    "If |λ_1| > 1 then the component of $c_1λ^n_1x_1$ will grow as n increases.\n",
    "\n",
    "If |λ_2| < 1 then the component of $c_2λ^n_2x_2$ will steadily disappear.\n",
    "\n",
    "**Follow each eigenvector separately!!**"
   ],
   "metadata": {
    "collapsed": false
   },
   "id": "b7813665e1987dba"
  },
  {
   "cell_type": "markdown",
   "source": [
    "## EXAMPLE 1\n"
   ],
   "metadata": {
    "collapsed": false
   },
   "id": "80b40ef42b6dbb6e"
  },
  {
   "cell_type": "markdown",
   "source": [
    "$S$  = $\\begin{bmatrix}\n",
    "\n",
    "2 & 1 \\\\\n",
    "1 & 2 \\\\\n",
    "\n",
    "\n",
    "\\end{bmatrix}$ has eigenvectors $S$  $\\begin{bmatrix}\n",
    "\n",
    "1 \\\\\n",
    "1 \\\\\n",
    "\n",
    "\\end{bmatrix}$ = 3 $\\begin{bmatrix}\n",
    "\n",
    "1 \\\\\n",
    "1 \\\\\n",
    "\n",
    "\\end{bmatrix}$ and $S$ $\\begin{bmatrix}\n",
    "\n",
    "1 \\\\\n",
    "-1 \\\\\n",
    "\n",
    "\\end{bmatrix}$ = $\\begin{bmatrix}\n",
    "\n",
    "1 \\\\\n",
    "-1 \\\\\n",
    "\n",
    "\\end{bmatrix}$ \n",
    "\n",
    "Then λ_1 = 3 and λ_2 = 1.\n",
    "\n",
    "**The powers $S^k$ will grow like $3^k$.**\n",
    "\n",
    "Those eigenvalues and eigenvectors have four properties to notice:"
   ],
   "metadata": {
    "collapsed": false
   },
   "id": "ce5d203059abb6ed"
  },
  {
   "cell_type": "markdown",
   "source": [
    "1-) **Trace of $S$:** The sum λ_1 + λ_2 = 3 + 1 equals the diagonal sum 2 + 2 = 4.\n",
    "\n",
    "2-) **Determinant:** The product $λ_1 λ_2$ = 3 * 1 = 3 equals the determinant 4- 1.\n",
    "\n",
    "3-) **Real Eigenvalues:** Symmetric matrices $S$ = $S^T$ always have real eigenvalues.\n",
    "\n",
    "4-) **Orthogonal EigenVectors:** If $λ_1$ =! $λ_2$ then $x_1$ * $x_2$ = 0. Here (1,1) * (1,-1) = 0\n",
    "\n",
    "\n",
    "Symmetric matrices S are somehow like real numbers (every $λ$ is real).\n",
    "\n",
    "Orthogonal matrices $Q$ are like complex numbers.\n",
    "\n",
    "The powers of $Q$ do not grow or decay because $Q^2$, $Q^3$, ... , are orthogonal matrices too. "
   ],
   "metadata": {
    "collapsed": false
   },
   "id": "b38d5c473dc27a64"
  },
  {
   "cell_type": "markdown",
   "source": [
    "## EXAMPLE 2\n"
   ],
   "metadata": {
    "collapsed": false
   },
   "id": "2bbbfadb6296f139"
  },
  {
   "cell_type": "code",
   "execution_count": null,
   "outputs": [],
   "source": [],
   "metadata": {
    "collapsed": false,
    "ExecuteTime": {
     "end_time": "2024-04-14T15:21:34.137002300Z",
     "start_time": "2024-04-14T15:21:34.089224800Z"
    }
   },
   "id": "85db26aee9a6c41f"
  }
 ],
 "metadata": {
  "kernelspec": {
   "display_name": "Python 3",
   "language": "python",
   "name": "python3"
  },
  "language_info": {
   "codemirror_mode": {
    "name": "ipython",
    "version": 2
   },
   "file_extension": ".py",
   "mimetype": "text/x-python",
   "name": "python",
   "nbconvert_exporter": "python",
   "pygments_lexer": "ipython2",
   "version": "2.7.6"
  }
 },
 "nbformat": 4,
 "nbformat_minor": 5
}
