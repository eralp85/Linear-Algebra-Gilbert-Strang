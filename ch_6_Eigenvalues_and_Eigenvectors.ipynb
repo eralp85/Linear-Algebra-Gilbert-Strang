{
 "cells": [
  {
   "cell_type": "markdown",
   "source": [
    "# EIGENVALUES AND EIGENVECTORS"
   ],
   "metadata": {
    "collapsed": false
   },
   "id": "779ba54dfc5d7a19"
  },
  {
   "cell_type": "markdown",
   "source": [
    "The eigenvectors of A do not change directions when you multiply them by A.\n",
    "\n",
    "The output $Ax$ is on the same line as the input vector $x$.\n",
    "\n",
    "$$\n",
    "\n",
    "x \n",
    "\n",
    "=\n",
    "\n",
    "eigenvector\\:of\\:A \\\\\n",
    "\n",
    "λ \n",
    "\n",
    "=\n",
    "\n",
    "eigenvalue\\:of\\:A \\\\\n",
    "$$\n",
    "\n",
    "$$\n",
    "\n",
    "Ax = λx\n",
    "\n",
    "$$"
   ],
   "metadata": {
    "collapsed": false
   },
   "id": "3908ab5a861495fc"
  },
  {
   "cell_type": "markdown",
   "source": [
    "The eigenvector x is just multiplied by its eigenvalue λ.\n",
    "\n",
    "**Multiply again by A, to see that $x$ is also an eigenvector of $A^2$:** $A^2 x$ = $ λ^2 x$.\n",
    "\n",
    "$$\n",
    "\n",
    "x \n",
    "\n",
    "=\n",
    "\n",
    "same\\:eigenvector\n",
    "\\\\\n",
    "λ^2\n",
    "\n",
    "=\n",
    "\n",
    "squared\\:eigenvalue\\\\\n",
    "\n",
    "A(Ax) = A(λx) = λ(Ax) = λ^2 x\n",
    "\n",
    "$$\n",
    "\n",
    "Certainly $A^k x$ = $λ^k x$ for all k= 1,2,3,...\n",
    "\n",
    "And $A^-^1 x$ = $\\frac{1}{λ} x$ provided λ =! 0 "
   ],
   "metadata": {
    "collapsed": false
   },
   "id": "8ca462670bb05d27"
  },
  {
   "cell_type": "markdown",
   "source": [
    "These eigenvectors are special vectors that depend on A.\n",
    "\n",
    "Most n by n matrices have n independent eigenvectors $x_1$ to $x_n$ with n different eigenvalues $λ_1$ to $λ_n$.\n",
    "\n",
    "In that case every n-dimensional vector $v$ will be a combination of the eigenvectors:\n",
    "\n"
   ],
   "metadata": {
    "collapsed": false
   },
   "id": "65a4e1e5b8645a75"
  },
  {
   "cell_type": "markdown",
   "source": [
    "------------------------------------------------\n",
    "\n",
    "$$\n",
    "\n",
    "Every\\:\\:v \\:\\:\\:\\:\\:\\:\\:\\:\\: \\:\\:\\:\\:\\:\\:\\:\\:\\:\\:\\:\\:\\:\\:\\:\\:\\:\\:\\:\\:\\:\\:\\:v\\: \\:\\: =c_1x_1\\:+\\:...\\:+\\:c_nx_n\n",
    "\\\\\n",
    "Multiply\\: by \\:A\\:\\:\\:\\:\\:\\:\\:\\:\\: \\:\\:\\:\\:\\:\\:\\:\\:\\:\\:\\:\\: Av=c_1λ_1x_1\\:+\\:...\\:+\\:c_nλ_nx_n\n",
    "\\\\\n",
    "\n",
    "Multiply\\: by \\:A^k\\:\\:\\:\\:\\:\\:\\:\\:\\: \\:\\:\\:\\:\\:\\:\\:\\: A^kv=c_1λ^k_1x_1\\:+\\:...\\:+\\:c_nλ^k_nx_n\\\\\n",
    "\n",
    "\n",
    "$$\n",
    "\n",
    "\n",
    "\n",
    "\n",
    "---------------------------------------\n"
   ],
   "metadata": {
    "collapsed": false
   },
   "id": "c5fadf1cb80a77b5"
  },
  {
   "cell_type": "markdown",
   "source": [
    "Here you see how eigenvalues and eigenvectors are useful.\n",
    "\n",
    "They look into the heart of a matrix.\n",
    "\n",
    "If |λ_1| > 1 then the component of $c_1λ^n_1x_1$ will grow as n increases.\n",
    "\n",
    "If |λ_2| < 1 then the component of $c_2λ^n_2x_2$ will steadily disappear.\n",
    "\n",
    "**Follow each eigenvector separately!!**"
   ],
   "metadata": {
    "collapsed": false
   },
   "id": "b7813665e1987dba"
  },
  {
   "cell_type": "markdown",
   "source": [
    "## EXAMPLE 1\n"
   ],
   "metadata": {
    "collapsed": false
   },
   "id": "80b40ef42b6dbb6e"
  },
  {
   "cell_type": "markdown",
   "source": [
    "$S$  = $\\begin{bmatrix}\n",
    "\n",
    "2 & 1 \\\\\n",
    "1 & 2 \\\\\n",
    "\n",
    "\n",
    "\\end{bmatrix}$ has eigenvectors $S$  $\\begin{bmatrix}\n",
    "\n",
    "1 \\\\\n",
    "1 \\\\\n",
    "\n",
    "\\end{bmatrix}$ = 3 $\\begin{bmatrix}\n",
    "\n",
    "1 \\\\\n",
    "1 \\\\\n",
    "\n",
    "\\end{bmatrix}$ and $S$ $\\begin{bmatrix}\n",
    "\n",
    "1 \\\\\n",
    "-1 \\\\\n",
    "\n",
    "\\end{bmatrix}$ = $\\begin{bmatrix}\n",
    "\n",
    "1 \\\\\n",
    "-1 \\\\\n",
    "\n",
    "\\end{bmatrix}$ \n",
    "\n",
    "Then λ_1 = 3 and λ_2 = 1.\n",
    "\n",
    "**The powers $S^k$ will grow like $3^k$.**\n",
    "\n",
    "Those eigenvalues and eigenvectors have four properties to notice:"
   ],
   "metadata": {
    "collapsed": false
   },
   "id": "ce5d203059abb6ed"
  },
  {
   "cell_type": "markdown",
   "source": [
    "1-) **Trace of $S$:** The sum $λ_1$ + $λ_2$ = 3 + 1 equals the diagonal sum 2 + 2 = 4.\n",
    "\n",
    "2-) **Determinant:** The product $λ_1 λ_2$ = 3 * 1 = 3 equals the determinant 4- 1.\n",
    "\n",
    "3-) **Real Eigenvalues:** Symmetric matrices $S$ = $S^T$ always have real eigenvalues.\n",
    "\n",
    "4-) **Orthogonal EigenVectors:** If $λ_1$ =! $λ_2$ then $x_1$ * $x_2$ = 0. Here (1,1) * (1,-1) = 0\n",
    "\n",
    "\n",
    "Symmetric matrices S are somehow like real numbers (every $λ$ is real).\n",
    "\n",
    "Orthogonal matrices $Q$ are like complex numbers.\n",
    "\n",
    "The powers of $Q$ do not grow or decay because $Q^2$, $Q^3$, ... , are orthogonal matrices too. "
   ],
   "metadata": {
    "collapsed": false
   },
   "id": "b38d5c473dc27a64"
  },
  {
   "cell_type": "markdown",
   "source": [
    "## EXAMPLE 2\n"
   ],
   "metadata": {
    "collapsed": false
   },
   "id": "2bbbfadb6296f139"
  },
  {
   "cell_type": "markdown",
   "source": [
    "The rotation $Q$ = $\\begin{bmatrix}\n",
    "\n",
    "0 & -1 \\\\\n",
    "1 & 0 \\\\\n",
    "\n",
    "\n",
    "\\end{bmatrix}$ \n",
    "\n",
    "has imaginary eigenvalues $i$ and $-i$:\n",
    "\n",
    "$Q$ $\\begin{bmatrix}\n",
    "\n",
    "1 \\\\\n",
    "-i \\\\\n",
    "\n",
    "\n",
    "\\end{bmatrix}$ = $\\begin{bmatrix}\n",
    "\n",
    "0 & -1 \\\\\n",
    "1 & 0 \\\\\n",
    "\n",
    "\n",
    "\\end{bmatrix}$ $\\begin{bmatrix}\n",
    "\n",
    "1 \\\\\n",
    "-i \\\\\n",
    "\n",
    "\n",
    "\\end{bmatrix}$ = $(i)$ $\\begin{bmatrix}\n",
    "\n",
    "1 \\\\\n",
    "-i \\\\\n",
    "\n",
    "\n",
    "\\end{bmatrix}$ \\\n",
    "and $Q$$\\begin{bmatrix}\n",
    "\n",
    "1 \\\\\n",
    "-i \\\\\n",
    "\n",
    "\n",
    "\\end{bmatrix}$ = $\\begin{bmatrix}\n",
    "\n",
    "0 & -1 \\\\\n",
    "1 & 0 \\\\\n",
    "\n",
    "\n",
    "\\end{bmatrix}$ $\\begin{bmatrix}\n",
    "\n",
    "1 \\\\\n",
    "-i \\\\\n",
    "\n",
    "\n",
    "\\end{bmatrix}$ = $\n",
    "(-i)\n",
    "$$\\begin{bmatrix}\n",
    "\n",
    "1 \\\\\n",
    "-i \\\\\n",
    "\n",
    "\n",
    "\\end{bmatrix}$"
   ],
   "metadata": {
    "collapsed": false
   },
   "id": "4e262439dea8f884"
  },
  {
   "cell_type": "markdown",
   "source": [
    "Certainly $λ_1$ + $λ_2$ = $i - i$ agrees with the trace 0 + 0 from the main diagonal of $Q$.\n",
    "\n",
    "And $(λ_1)$ + $(λ_2)$ = $(i)$$(-i)$ agrees with the determinant of $Q$ = 1.\n",
    "\n",
    "The eigenvectors of $Q$ are still orthogonal when we move (as we should) to the dot product of complex vectors.\n",
    "\n",
    "**Change every $i$ in $x_1$ to $-i$.**\n",
    "\n",
    "This produces its conjugate $\\bar{x_1}$.\n",
    "\n",
    "$$\n",
    "\n",
    "$\\bar{x_1}$^T $x_2$ = $\\begin{bmatrix}\n",
    "\n",
    "1 & i \\\\\n",
    "\n",
    "\\end{bmatrix}$ $\\begin{bmatrix}\n",
    "\n",
    "1   \\\\\n",
    "i   \\\\\n",
    "\\end{bmatrix}$ = $1 + i^2$ = 0 : orthogonal\\:eigenvectors.\n",
    "\n",
    "$$\n",
    "\n"
   ],
   "metadata": {
    "collapsed": false
   },
   "id": "76a5ce2aa54750dc"
  },
  {
   "cell_type": "markdown",
   "source": [
    "**Warning about eigenvalues and eigenvectors.**\n",
    "\n",
    "a-) The eigenvalues of $A$ + $B$ are not usually $λ(A)$ plus $λ(B)$.\n",
    "\n",
    "b-) The eigenvalues of $AB$ are not usually $λ(A)$ times $λ(B)$.\n",
    "\n",
    "c-) A double eigenvalue $λ_1$ = $λ_2$ might or might not have two independent eigenvectors.\n",
    "\n",
    "d-) The eigenvectors of a real matrix A are orthogonal if and only if $A^T A$ = $A A^T$."
   ],
   "metadata": {
    "collapsed": false
   },
   "id": "a88b01e720f4e656"
  },
  {
   "cell_type": "markdown",
   "source": [
    "The matrix $A$ also controls a system of linear differential equations $\\frac{du}{dt}$ = $Au$.\n",
    "\n",
    "The system starts at an initial vector $u(0)$ when $t$=0.\n",
    "\n",
    "Every eigenvector grows or decays or oscillates according to its own eigenvalue $λ$.\n",
    "\n",
    "Powers $λ^n$ are changed to exponentials $e^λ  ^t$:\n",
    "\n"
   ],
   "metadata": {
    "collapsed": false
   },
   "id": "bc3bcb3f9bd9f567"
  },
  {
   "cell_type": "markdown",
   "source": [
    "---------------------------------------------\n",
    "$$\n",
    "\n",
    "Starting\\:\\:Vector\\:\\:: \\:\\:\\:\\:\\: u(0) = c_1x_1 \\: + \\:...\\:+\\:c_nx_n \\\\\n",
    "\n",
    "$$\n",
    "\n",
    "$$\n",
    "\n",
    "Solution\\:\\:Vector\\:\\:: \\:\\:\\:\\:\\: u(t) = c_1 e^{λ_1} ^t x_1 \\: + \\:...\\:+\\:c_n e^{λ_n} ^t x_n\n",
    "\n",
    "$$\n",
    "\n",
    "------------------------------------------"
   ],
   "metadata": {
    "collapsed": false
   },
   "id": "4a273f5068769b7b"
  },
  {
   "cell_type": "markdown",
   "source": [
    "The difference between growth and decay is now decided by Re $λ$ > 0  or Re $λ$ < 0, instead of |$λ$| > 1 or |$λ$| < 1.\n",
    "\n",
    "The real part of $λ$ = $a$ + $ib$ is Re $λ$ = $a$.\n",
    "\n",
    "The absolute value of $e^{λ t}$ is $e^{a t}$.\n",
    "\n",
    "The other factors $e^{i b t}$ = $cos bt$ +$i sin bt$ has $cos^2 bt$ + $sin^2 bt$ = 1.\n",
    "\n",
    "That part oscillates while $e^{at}$ grows or decays. "
   ],
   "metadata": {
    "collapsed": false
   },
   "id": "f5ed8ea7058d3a82"
  },
  {
   "cell_type": "markdown",
   "source": [
    "## COMPUTING THE EIGENVALUES (By Hand)"
   ],
   "metadata": {
    "collapsed": false
   },
   "id": "4f12ef424b7bf2c0"
  },
  {
   "cell_type": "markdown",
   "source": [
    "Notice that $Ax$ = $λx$ is the same as $(A - λI)x$ = 0.\n",
    "\n",
    "Then $A-λI$ is not invertible: that matrix is singular.\n",
    "\n",
    "**The determinant of $A-λI$ must be zero!!**\n",
    "\n",
    "This gives an $nth$ degree equation for $λ$, and this equation $det(A -λI)=0$ has  $n$ roots.\n",
    "\n",
    "Here n=2 and  $A$ = $\\begin{bmatrix}\n",
    "\n",
    "a & b \\\\\n",
    "c & d \\\\\n",
    "\n",
    "\\end{bmatrix}$ has two eigenvalues:\n",
    "\n",
    "$$\n",
    "\n",
    "Determinant\\:of\\:A-λI\\:\n",
    "\n",
    "=\n",
    "\n",
    "$\\begin{vmatrix}\n",
    "\n",
    "a-λ & b \\\\\n",
    "c & d-λ \\\\\n",
    "\n",
    "\\end{vmatrix}$ \n",
    "\n",
    "=\n",
    "\n",
    "λ^2 - (a+d)λ + (ad-bc) = 0\n",
    "$$\n",
    "\n",
    "This quadratic equation might factor easily into $(λ-λ_1)(λ-λ_2)$.\n",
    "\n",
    "The quadratic formula will always give the two roots $λ_1$ and $λ_2$ of our equation from the + sign and the - sign.\n",
    "\n",
    "$$\n",
    "\n",
    "λ \n",
    "\n",
    "=\n",
    "\n",
    "\\frac{1}{2}\n",
    "\n",
    "*\n",
    "\n",
    "\\begin{bmatrix}\n",
    "\n",
    "a + d ± \\sqrt{(a+d)^2 - 4(ad-bc)} \\\\\n",
    "\n",
    "\n",
    "\\end{bmatrix}\n",
    "\n",
    "== \\\\\n",
    "\n",
    "== \n",
    "\n",
    "\\frac{1}{2}\n",
    "\n",
    "*\n",
    "\n",
    "\\begin{bmatrix}\n",
    "\n",
    "a + d ± \\sqrt{(a-d)^2 + 4bc} \\\\\n",
    "\n",
    "\n",
    "\\end{bmatrix}\n",
    "\n",
    "$$\n",
    "\n",
    "\n",
    "You see that $λ_1$ + $λ_2$ equals $a + d$ (the trace of the matrix.\n",
    "\n",
    "The ± square roots cancel out.\n",
    "\n",
    "Notice also that eigenvalues are real when A is symmetric $(b=c)$.\n",
    "\n",
    "Then we are not taking the square root of a negative number to find $λ$.\n",
    "\n",
    "When $bc$ is very negative, the eigenvalues and eigenvectors go complex."
   ],
   "metadata": {
    "collapsed": false
   },
   "id": "aa45e3af8b9bb6aa"
  },
  {
   "cell_type": "markdown",
   "source": [
    "## EXAMPLE 3"
   ],
   "metadata": {
    "collapsed": false
   },
   "id": "964040a92b3b82b"
  },
  {
   "cell_type": "markdown",
   "source": [
    "Find the eigenvalues and eigenvectors of $A$ = $\\begin{bmatrix}\n",
    "\n",
    "8 & 3 \\\\\n",
    "2 & 7 \\\\\n",
    "\n",
    "\\end{bmatrix}$ : **not symmetric.** \n",
    "\n",
    "The determinant of $A - λI$ is $\\begin{vmatrix}\n",
    "\n",
    "8-λ & 3 \\\\\n",
    "2 & 7-λ \\\\\n",
    "\n",
    "\\end{vmatrix}$ = $λ^2$ - $15λ$ + $50$ \\= $(λ-10)$ $(λ-5)$   \n",
    "\n",
    "$λ_1$ = 10 has $\\begin{bmatrix}\n",
    "\n",
    "8-10 & 3 \\\\\n",
    "2 & 7-10 \\\\\n",
    "\n",
    "\\end{bmatrix}$ $\\begin{bmatrix}\n",
    "\n",
    "x_1 \\\\\n",
    "x_2 \\\\\n",
    "\n",
    "\\end{bmatrix}$ = $\\begin{bmatrix}\n",
    "\n",
    "0 \\\\\n",
    "0 \\\\\n",
    "\n",
    "\\end{bmatrix}$ **Eigenvector $x_1$** = $\\begin{bmatrix}\n",
    "\n",
    "x_1 \\\\\n",
    "x_2 \\\\\n",
    "\n",
    "\\end{bmatrix}$ = $\\begin{bmatrix}\n",
    "\n",
    "3 \\\\\n",
    "2 \\\\\n",
    "\n",
    "\\end{bmatrix}$\n",
    "\n",
    "\n",
    "$λ_1$ = 5 has $\\begin{bmatrix}\n",
    "\n",
    "8-5 & 3 \\\\\n",
    "2 & 7-5 \\\\\n",
    "\n",
    "\\end{bmatrix}$ $\\begin{bmatrix}\n",
    "\n",
    "x_1 \\\\\n",
    "x_2 \\\\\n",
    "\n",
    "\\end{bmatrix}$ = $\\begin{bmatrix}\n",
    "\n",
    "0 \\\\\n",
    "0 \\\\\n",
    "\n",
    "\\end{bmatrix}$ **Eigenvector $x_1$** = $\\begin{bmatrix}\n",
    "\n",
    "x_1 \\\\\n",
    "x_2 \\\\\n",
    "\n",
    "\\end{bmatrix}$ = $\\begin{bmatrix}\n",
    "\n",
    "1 \\\\\n",
    "-1 \\\\\n",
    "\n",
    "\\end{bmatrix}$\n",
    "\n",
    "\n",
    "10+5 = 8+7.\n",
    "\n",
    "These eigenvectors are not orthogonal.\n",
    "\n",
    "Increase 3 to 30 for complex $λ$'s.\n",
    "\n",
    "**QUESTION:**\n",
    "\n",
    "If A is shifted to $A + sI$, what happens to the $x$'s and $λ$'s??\n",
    "\n",
    "**ANSWER:**\n",
    "\n",
    "The eigenvectors $x$ stay the same. Every eigenvalue $λ$ shifts by the number $s$:\n",
    "\n",
    "-----------------------------------------\n",
    "\n",
    "Shift in A ==> Shift in every $λ$.\n",
    "\n",
    "$$\n",
    "\n",
    "(A+sI)x = λx + sx = (λ+s)x\n",
    "\n",
    "$$\n",
    "\n",
    "-------------------------------\n",
    "\n"
   ],
   "metadata": {
    "collapsed": false
   },
   "id": "cb939ca2a2466738"
  },
  {
   "cell_type": "markdown",
   "source": [
    "## SIMILAR MATRICES"
   ],
   "metadata": {
    "collapsed": false
   },
   "id": "42d8e3d402b607a5"
  },
  {
   "cell_type": "markdown",
   "source": [
    "## SIMILAR MATRICES\n",
    "\n",
    "For every invertible matrix B, the eigenvalues of $BAB^-^1$ are the same as the eigenvalues of A.\n",
    "\n",
    "The eigenvectors $x$ of A are multiple by $B$ to give eigenvectors $Bx$ of $BAB^-^1$:\n",
    "\n",
    "$$\n",
    "\n",
    "If\\:Ax\\:= \\:λx\\:\\:then\\:\\:(BAB^-^1)(Bx)\\: =\\: BAx\\: =\\: Bλx\\:=\\:λ(Bx)\n",
    "\n",
    "$$\n",
    "\n",
    "The matrices $BAB^-^1$ (for every invertible B) are similar to A: **SAME EIGENVALUES**\n",
    "\n",
    "We use this idea to compute eigenvalues of large matrices (when the determinant of $A - λI$ would be completely hopeless).\n",
    "\n",
    "The idea is to make $BAB^-^1$ gradually into a triangular matrix.\n",
    "\n",
    "The eigenvalues are not changing and they gradually show up on the main diagonal of $BAB^-^1$:\n",
    "\n",
    "$$\n",
    "\n",
    "The\\:eigenvalues\\:of\\:any\\:triangular\\:matrix\\:\\begin{bmatrix}\n",
    "\n",
    "a & b \\\\\n",
    "0 & d \\\\\n",
    "\n",
    "\\end{bmatrix}\\:are\\:λ_1=a\\:and\\:λ_2=d.\n",
    "\n",
    "\n",
    "$$"
   ],
   "metadata": {
    "collapsed": false
   },
   "id": "46f9c16c39730cc3"
  },
  {
   "cell_type": "code",
   "execution_count": null,
   "outputs": [],
   "source": [],
   "metadata": {
    "collapsed": false,
    "ExecuteTime": {
     "end_time": "2024-04-27T17:10:19.501549Z",
     "start_time": "2024-04-27T17:10:19.470272Z"
    }
   },
   "id": "1a4c604a3a2d7724"
  }
 ],
 "metadata": {
  "kernelspec": {
   "display_name": "Python 3",
   "language": "python",
   "name": "python3"
  },
  "language_info": {
   "codemirror_mode": {
    "name": "ipython",
    "version": 2
   },
   "file_extension": ".py",
   "mimetype": "text/x-python",
   "name": "python",
   "nbconvert_exporter": "python",
   "pygments_lexer": "ipython2",
   "version": "2.7.6"
  }
 },
 "nbformat": 4,
 "nbformat_minor": 5
}
