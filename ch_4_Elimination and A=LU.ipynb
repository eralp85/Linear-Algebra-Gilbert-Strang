{
 "cells": [
  {
   "cell_type": "markdown",
   "source": [
    "# ELIMINATION AND $A$ = $LU$"
   ],
   "metadata": {
    "collapsed": false
   },
   "id": "521cce54a6a43a9"
  },
  {
   "cell_type": "markdown",
   "source": [
    "The first and most fundamental problem of linear algebra is to solve $A$$x$ = $b$.\n",
    "\n",
    "We are given the $n$ by $n$ matrix $A$ and the $n$ by 1 column vector $b$.\n",
    "\n",
    "We look for the solution vector $x$.\n",
    "\n",
    "Its components $x_1$,$x_2$,...,$x_n$ are the $n$ unknowns and we have $n$ equations.\n",
    "\n",
    "Usually a square matrix A means only one solution to $A$$x$ = $b$ (but not always).\n",
    "\n",
    "We can find $x$ by geometry or by algebra.\n",
    "\n",
    "This section begins with the row and column pictures of $A$$x$ = $b$.\n",
    "\n",
    "Then we solve the equations by simplifying them - eliminate $x_1$ from $n-1$ equations to get a smaller system $A_2$$x_2$ = $b_2$ of size $n-1$.\n",
    "\n",
    "Eventually, we reach the 1 by 1 system $A_n$$x_n$ = $b_n$ and we know **$x_n$ = $b_n$ / $A_n$.**\n",
    "\n",
    "Working backwards produces $x_n _- _1$ and eventually we know $x_2$ and $x_1$.\n",
    "\n",
    "The point of this section is to see those elimination steps in terms of rank 1 matrices.\n",
    "\n",
    "**Every step (from $A$ to $A_2$ and eventually $A_n$)removes a matrix $lu^*$.**\n",
    "\n",
    "Then the original A is the sum of those rank one matrices.\n",
    "\n",
    "This sum is exactly the great factorization $A$ = $LU$ into lower and upper triangular matrices $L$ and $U$.\n",
    "\n",
    "**$A$ = $L$ times $U$ is the matrix description of elimination without row exchanges.**\n",
    "\n",
    "That will be algebra.\n",
    "\n",
    "Start with geometry for this 2 by 2 example.\n"
   ],
   "metadata": {
    "collapsed": false
   },
   "id": "e7694af77dcdc16d"
  },
  {
   "cell_type": "markdown",
   "source": [
    "**2 equations and 2 unknowns.**\n",
    "\n",
    "**2 by 2 matrix in $Ax$=$b$**\n",
    "\n",
    "$$\n",
    "\n",
    "x - 2y = 1 \\\\\n",
    "2x+ 3y = 9 \\\\\n",
    "\n",
    "$$\n",
    "\n",
    "$$\n",
    "\n",
    "\\begin{bmatrix}\n",
    "\n",
    "1 & -2  \\\\\n",
    "2 & 3  \\\\\n",
    "\n",
    "\\end{bmatrix}\n",
    "\n",
    "*\n",
    "\\begin{bmatrix}\n",
    "\n",
    "x  \\\\\n",
    "y  \\\\\n",
    "\n",
    "\\end{bmatrix}\n",
    "\n",
    "=\n",
    "\\begin{bmatrix}\n",
    "\n",
    "1  \\\\\n",
    "9  \\\\\n",
    "\n",
    "\\end{bmatrix}\n",
    "\n",
    "\n",
    "\n",
    "\n",
    "$$"
   ],
   "metadata": {
    "collapsed": false
   },
   "id": "a65b7b66f3bf0553"
  },
  {
   "cell_type": "markdown",
   "source": [
    "## ROW PICTURE"
   ],
   "metadata": {
    "collapsed": false
   },
   "id": "7d8a07e0c444c749"
  },
  {
   "cell_type": "markdown",
   "source": [
    "Notice!!\n",
    "\n",
    "I multiplied $Ax$ using inner products (dot products).\n",
    "\n",
    "Each row of matrix A multiplied the vector $x$.\n",
    "\n",
    "That produces the two equations for x an y and the two straight lines.\n",
    "\n",
    "They meet at the solution $x$ = 3 and $y$ = 1.\n",
    "\n",
    "Here is the **row picture**:\n",
    "\n",
    "\n"
   ],
   "metadata": {
    "collapsed": false
   },
   "id": "64406ec28257f0e8"
  },
  {
   "cell_type": "markdown",
   "source": [
    "![fig_1_4](./fig_1_4.png)"
   ],
   "metadata": {
    "collapsed": false
   },
   "id": "cd4e2d3659b6952b"
  },
  {
   "cell_type": "markdown",
   "source": [
    "$$\n",
    "\n",
    "\\begin{bmatrix}\n",
    "\n",
    "1 & -2  \\\\\n",
    "2 & 3  \\\\\n",
    "\n",
    "\\end{bmatrix}\n",
    "\n",
    "*\n",
    "\\begin{bmatrix}\n",
    "\n",
    "x  \\\\\n",
    "y  \\\\\n",
    "\n",
    "\\end{bmatrix}\n",
    "\n",
    "=\n",
    "\\begin{bmatrix}\n",
    "\n",
    "1  \\\\\n",
    "9  \\\\\n",
    "\n",
    "\\end{bmatrix}\n",
    "\\\\\n",
    "\\\\\n",
    "\\\\\n",
    "\\\\\n",
    "\\:\\:\\:\\:\\:\\:\\:\\: A\n",
    "\n",
    "\\:\\:\\:\\:\\:\\:\\:\\:\\:\\:\\:\n",
    "x\n",
    "\\:\\:\\:\\:\n",
    "= \n",
    "\\:\n",
    "b\n",
    "$$\n",
    "\n",
    "\n"
   ],
   "metadata": {
    "collapsed": false
   },
   "id": "85f618c593b08bac"
  },
  {
   "cell_type": "markdown",
   "source": [
    "**Solution:**\n",
    "\n",
    "\n",
    "$$\n",
    "\n",
    "\\begin{bmatrix}\n",
    "\n",
    "1 & -2  \\\\\n",
    "2 & 3  \\\\\n",
    "\n",
    "\\end{bmatrix}\n",
    "\n",
    "*\n",
    "\\begin{bmatrix}\n",
    "\n",
    "3  \\\\\n",
    "1  \\\\\n",
    "\n",
    "\\end{bmatrix}\n",
    "\n",
    "=\n",
    "\\begin{bmatrix}\n",
    "\n",
    "1  \\\\\n",
    "9  \\\\\n",
    "\n",
    "\\end{bmatrix}\n",
    "\n",
    "\n",
    "\n",
    "\n",
    "$$\n"
   ],
   "metadata": {
    "collapsed": false
   },
   "id": "f7af49f24745ce39"
  },
  {
   "cell_type": "markdown",
   "source": [
    "Above figure also includes the horizontal line 7$y$ = 7.\n",
    "\n",
    "We have subtracted 2 * Equation 1 from Equation 2. This is algebra\n",
    "\n",
    "$$\n",
    "\n",
    "2 * [x - 2y] = 1 \\\\\n",
    "2x + 3y = 9 \\\\\n",
    "\n",
    "$$\n",
    "\n",
    "==>\n",
    "\n",
    "$$\n",
    "\n",
    "2x - 4y = 2 \\\\\n",
    "-2x - 3y = -9\\\\ \n",
    "\n",
    "$$\n",
    "\n",
    "==>\n",
    "$$\n",
    "y = 7\n",
    "\n",
    "$$"
   ],
   "metadata": {
    "collapsed": false
   },
   "id": "3ff26bfeb0166349"
  },
  {
   "cell_type": "markdown",
   "source": [
    "## COLUMN PICTURE\n"
   ],
   "metadata": {
    "collapsed": false
   },
   "id": "da89d1a479e9923a"
  },
  {
   "cell_type": "markdown",
   "source": [
    "One vector equation instead of two scalar equations.\n",
    "\n",
    "We are looking for a combination of the columns of $A$ to match $b$.\n",
    "\n",
    "Below figure shows that the right combination (the solution to $x$) has the same $x$= 3 and $y$ = 1 that we found in the row picture."
   ],
   "metadata": {
    "collapsed": false
   },
   "id": "7f05107f31e5f08a"
  },
  {
   "cell_type": "markdown",
   "source": [
    "$$\n",
    "\n",
    "Ax\\:is\\:a\\:combination\\:of\\:columns.\\\\\n",
    "The\\:columns\\:combine\\:to\\:give\\:b.\n",
    "\n",
    "$$\n",
    "\n",
    "$$\n",
    "\n",
    "\\begin{bmatrix}\n",
    "\n",
    "1 & -2  \\\\\n",
    "2 & 3  \\\\\n",
    "\n",
    "\\end{bmatrix}\n",
    "\n",
    "*\n",
    "\\begin{bmatrix}\n",
    "\n",
    "x  \\\\\n",
    "y  \\\\\n",
    "\n",
    "\\end{bmatrix}\n",
    "\n",
    "=\n",
    "\n",
    "x\n",
    "\n",
    "*\n",
    "\n",
    "\\begin{bmatrix}\n",
    "\n",
    "1  \\\\\n",
    "2  \\\\\n",
    "\n",
    "\\end{bmatrix}\n",
    "\n",
    "+\n",
    "y\n",
    "\n",
    "*\n",
    "\n",
    "\\begin{bmatrix}\n",
    "\n",
    "-2  \\\\\n",
    "3  \\\\\n",
    "\n",
    "\\end{bmatrix}\n",
    "\n",
    "=\n",
    "\n",
    "\\begin{bmatrix}\n",
    "\n",
    "1  \\\\\n",
    "9  \\\\\n",
    "\n",
    "\\end{bmatrix}\n",
    "\n",
    "$$"
   ],
   "metadata": {
    "collapsed": false
   },
   "id": "b6c7e600df0f4f5f"
  },
  {
   "cell_type": "markdown",
   "source": [
    "Adding 3 * column 1 to 1 * column 2 gives $b$ as a combination of the columns.\n",
    "\n",
    "$$\n",
    "\n",
    "3\n",
    "\n",
    "*\n",
    "\\begin{bmatrix}\n",
    "\n",
    "1   \\\\\n",
    "2   \\\\\n",
    "\n",
    "\\end{bmatrix}\n",
    "\n",
    "+\n",
    "\n",
    "1\n",
    "\n",
    "*\n",
    "\n",
    "\\begin{bmatrix}\n",
    "\n",
    "-2  \\\\\n",
    " 3  \\\\\n",
    "\n",
    "\\end{bmatrix}\n",
    "\n",
    "= \n",
    "\n",
    "\\begin{bmatrix}\n",
    "\n",
    "1   \\\\\n",
    "9   \\\\\n",
    "\n",
    "\\end{bmatrix}\n",
    "\n",
    "$$\n",
    "\n",
    "$$\n",
    "\n",
    "\\begin{bmatrix}\n",
    "\n",
    "3   \\\\\n",
    "6   \\\\\n",
    "\n",
    "\\end{bmatrix}\n",
    "\n",
    "+\n",
    "\n",
    "\\begin{bmatrix}\n",
    "\n",
    "-2   \\\\\n",
    "3   \\\\\n",
    "\n",
    "\\end{bmatrix}\n",
    "\n",
    "=\n",
    "\n",
    "\\begin{bmatrix}\n",
    "\n",
    "1   \\\\\n",
    "9   \\\\\n",
    "\n",
    "\\end{bmatrix}\n",
    "\n",
    "$$"
   ],
   "metadata": {
    "collapsed": false
   },
   "id": "6d206b242e855040"
  },
  {
   "cell_type": "markdown",
   "source": [
    "![fig_1_5](./fig_1_5.png)"
   ],
   "metadata": {
    "collapsed": false
   },
   "id": "423778f6f118efa6"
  },
  {
   "cell_type": "markdown",
   "source": [],
   "metadata": {
    "collapsed": false
   },
   "id": "4cf32f0e01069a92"
  },
  {
   "cell_type": "markdown",
   "source": [
    "For $n$ = 2, the row picture looked easy.\n",
    "\n",
    "But for n=>3, the column picture wins.\n",
    "\n",
    "Better to draw three column vectors than three planes!\n",
    "\n",
    "Three equations for $x$ = $(x,y,z)$.\n",
    "\n",
    "$$\n",
    "\n",
    "Row\\:Picture\\:in\\:3D=\\:Three\\:planes\\:meet\\:at\\:one\\:point.\\:A\\:plane\\:for\\:each\\:equation.\\\\\n",
    "\n",
    "Column\\:Picture\\:in\\:3D=\\:Three\\:column\\:vectors\\:combine\\:to\\:give\\:the\\:vector\\:b.\\\\\n",
    "\n",
    "$$"
   ],
   "metadata": {
    "collapsed": false
   },
   "id": "36e609816fc5458b"
  },
  {
   "cell_type": "markdown",
   "source": [
    "## SOLVING $Ax$ = $b$ by Elimination"
   ],
   "metadata": {
    "collapsed": false
   },
   "id": "929e260a776e2758"
  },
  {
   "cell_type": "code",
   "execution_count": null,
   "outputs": [],
   "source": [],
   "metadata": {
    "collapsed": false
   },
   "id": "b17b59eadeb6816f"
  }
 ],
 "metadata": {
  "kernelspec": {
   "display_name": "Python 3",
   "language": "python",
   "name": "python3"
  },
  "language_info": {
   "codemirror_mode": {
    "name": "ipython",
    "version": 2
   },
   "file_extension": ".py",
   "mimetype": "text/x-python",
   "name": "python",
   "nbconvert_exporter": "python",
   "pygments_lexer": "ipython2",
   "version": "2.7.6"
  }
 },
 "nbformat": 4,
 "nbformat_minor": 5
}
