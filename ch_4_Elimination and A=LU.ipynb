{
 "cells": [
  {
   "cell_type": "markdown",
   "source": [
    "# ELIMINATION AND $A$ = $LU$"
   ],
   "metadata": {
    "collapsed": false
   },
   "id": "521cce54a6a43a9"
  },
  {
   "cell_type": "markdown",
   "source": [
    "The first and most fundamental problem of linear algebra is to solve $A$$x$ = $b$.\n",
    "\n",
    "We are given the $n$ by $n$ matrix $A$ and the $n$ by 1 column vector $b$.\n",
    "\n",
    "We look for the solution vector $x$.\n",
    "\n",
    "Its components $x_1$,$x_2$,...,$x_n$ are the $n$ unknowns and we have $n$ equations.\n",
    "\n",
    "Usually a square matrix A means only one solution to $A$$x$ = $b$ (but not always).\n",
    "\n",
    "We can find $x$ by geometry or by algebra.\n",
    "\n",
    "This section begins with"
   ],
   "metadata": {
    "collapsed": false
   },
   "id": "e7694af77dcdc16d"
  },
  {
   "cell_type": "code",
   "execution_count": null,
   "outputs": [],
   "source": [],
   "metadata": {
    "collapsed": false
   },
   "id": "1550a48735c8323e"
  }
 ],
 "metadata": {
  "kernelspec": {
   "display_name": "Python 3",
   "language": "python",
   "name": "python3"
  },
  "language_info": {
   "codemirror_mode": {
    "name": "ipython",
    "version": 2
   },
   "file_extension": ".py",
   "mimetype": "text/x-python",
   "name": "python",
   "nbconvert_exporter": "python",
   "pygments_lexer": "ipython2",
   "version": "2.7.6"
  }
 },
 "nbformat": 4,
 "nbformat_minor": 5
}
