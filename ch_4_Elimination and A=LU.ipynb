{
 "cells": [
  {
   "cell_type": "markdown",
   "source": [
    "# ELIMINATION AND $A$ = $LU$"
   ],
   "metadata": {
    "collapsed": false
   },
   "id": "521cce54a6a43a9"
  },
  {
   "cell_type": "markdown",
   "source": [
    "The first and most fundamental problem of linear algebra is to solve $A$$x$ = $b$.\n",
    "\n",
    "We are given the $n$ by $n$ matrix $A$ and the $n$ by 1 column vector $b$.\n",
    "\n",
    "We look for the solution vector $x$.\n",
    "\n",
    "Its components $x_1$,$x_2$,...,$x_n$ are the $n$ unknowns and we have $n$ equations.\n",
    "\n",
    "Usually a square matrix A means only one solution to $A$$x$ = $b$ (but not always).\n",
    "\n",
    "We can find $x$ by geometry or by algebra.\n",
    "\n",
    "This section begins with the row and column pictures of $A$$x$ = $b$.\n",
    "\n",
    "Then we solve the equations by simplifying them - eliminate $x_1$ from $n-1$ equations to get a smaller system $A_2$$x_2$ = $b_2$ of size $n-1$.\n",
    "\n",
    "Eventually, we reach the 1 by 1 system $A_n$$x_n$ = $b_n$ and we know **$x_n$ = $b_n$ / $A_n$.**\n",
    "\n",
    "Working backwards produces $x_n _- _1$ and eventually we know $x_2$ and $x_1$.\n",
    "\n",
    "The point of this section is to see those elimination steps in terms of rank 1 matrices.\n",
    "\n",
    "**Every step (from $A$ to $A_2$ and eventually $A_n$)removes a matrix $lu^*$.**\n",
    "\n",
    "Then the original A is the sum of those rank one matrices.\n",
    "\n",
    "This sum is exactly the great factorization $A$ = $LU$ into lower and upper triangular matrices $L$ and $U$.\n",
    "\n",
    "**$A$ = $L$ times $U$ is the matrix description of elimination without row exchanges.**\n",
    "\n",
    "That will be algebra.\n",
    "\n",
    "Start with geometry for this 2 by 2 example.\n"
   ],
   "metadata": {
    "collapsed": false
   },
   "id": "e7694af77dcdc16d"
  },
  {
   "cell_type": "markdown",
   "source": [
    "**2 equations and 2 unknowns.**\n",
    "\n",
    "**2 by 2 matrix in $Ax$=$b$**\n",
    "\n",
    "$$\n",
    "\n",
    "x - 2y = 1 \\\\\n",
    "2x+ 3y = 9 \\\\\n",
    "\n",
    "$$\n",
    "\n",
    "$$\n",
    "\n",
    "\\begin{bmatrix}\n",
    "\n",
    "1 & -2  \\\\\n",
    "2 & 3  \\\\\n",
    "\n",
    "\\end{bmatrix}\n",
    "\n",
    "*\n",
    "\\begin{bmatrix}\n",
    "\n",
    "x  \\\\\n",
    "y  \\\\\n",
    "\n",
    "\\end{bmatrix}\n",
    "\n",
    "=\n",
    "\\begin{bmatrix}\n",
    "\n",
    "1  \\\\\n",
    "9  \\\\\n",
    "\n",
    "\\end{bmatrix}\n",
    "\n",
    "\n",
    "\n",
    "\n",
    "$$"
   ],
   "metadata": {
    "collapsed": false
   },
   "id": "a65b7b66f3bf0553"
  },
  {
   "cell_type": "markdown",
   "source": [
    "## ROW PICTURE"
   ],
   "metadata": {
    "collapsed": false
   },
   "id": "7d8a07e0c444c749"
  },
  {
   "cell_type": "markdown",
   "source": [
    "Notice!!\n",
    "\n",
    "I multiplied $Ax$ using inner products (dot products).\n",
    "\n",
    "Each row of matrix A multiplied the vector $x$.\n",
    "\n",
    "That produces the two equations for x an y and the two straight lines.\n",
    "\n",
    "They meet at the solution $x$ = 3 and $y$ = 1.\n",
    "\n",
    "Here is the **row picture**:\n",
    "\n",
    "\n"
   ],
   "metadata": {
    "collapsed": false
   },
   "id": "64406ec28257f0e8"
  },
  {
   "cell_type": "markdown",
   "source": [
    "![fig_1_4](./fig_1_4.png)"
   ],
   "metadata": {
    "collapsed": false
   },
   "id": "cd4e2d3659b6952b"
  },
  {
   "cell_type": "markdown",
   "source": [
    "$$\n",
    "\n",
    "\\begin{bmatrix}\n",
    "\n",
    "1 & -2  \\\\\n",
    "2 & 3  \\\\\n",
    "\n",
    "\\end{bmatrix}\n",
    "\n",
    "*\n",
    "\\begin{bmatrix}\n",
    "\n",
    "x  \\\\\n",
    "y  \\\\\n",
    "\n",
    "\\end{bmatrix}\n",
    "\n",
    "=\n",
    "\\begin{bmatrix}\n",
    "\n",
    "1  \\\\\n",
    "9  \\\\\n",
    "\n",
    "\\end{bmatrix}\n",
    "\\\\\n",
    "\\\\\n",
    "\\\\\n",
    "\\\\\n",
    "\\:\\:\\:\\:\\:\\:\\:\\: A\n",
    "\n",
    "\\:\\:\\:\\:\\:\\:\\:\\:\\:\\:\\:\n",
    "x\n",
    "\\:\\:\\:\\:\n",
    "= \n",
    "\\:\n",
    "b\n",
    "$$\n",
    "\n",
    "\n"
   ],
   "metadata": {
    "collapsed": false
   },
   "id": "85f618c593b08bac"
  },
  {
   "cell_type": "markdown",
   "source": [
    "**Solution:**\n",
    "\n",
    "\n",
    "$$\n",
    "\n",
    "\\begin{bmatrix}\n",
    "\n",
    "1 & -2  \\\\\n",
    "2 & 3  \\\\\n",
    "\n",
    "\\end{bmatrix}\n",
    "\n",
    "*\n",
    "\\begin{bmatrix}\n",
    "\n",
    "3  \\\\\n",
    "1  \\\\\n",
    "\n",
    "\\end{bmatrix}\n",
    "\n",
    "=\n",
    "\\begin{bmatrix}\n",
    "\n",
    "1  \\\\\n",
    "9  \\\\\n",
    "\n",
    "\\end{bmatrix}\n",
    "\n",
    "\n",
    "\n",
    "\n",
    "$$\n"
   ],
   "metadata": {
    "collapsed": false
   },
   "id": "f7af49f24745ce39"
  },
  {
   "cell_type": "markdown",
   "source": [
    "Above figure also includes the horizontal line 7$y$ = 7.\n",
    "\n",
    "We have subtracted 2 * Equation 1 from Equation 2. This is algebra\n",
    "\n",
    "$$\n",
    "\n",
    "2 * [x - 2y] = 1 \\\\\n",
    "2x + 3y = 9 \\\\\n",
    "\n",
    "$$\n",
    "\n",
    "==>\n",
    "\n",
    "$$\n",
    "\n",
    "2x - 4y = 2 \\\\\n",
    "-2x - 3y = -9\\\\ \n",
    "\n",
    "$$\n",
    "\n",
    "==>\n",
    "$$\n",
    "y = 7\n",
    "\n",
    "$$"
   ],
   "metadata": {
    "collapsed": false
   },
   "id": "3ff26bfeb0166349"
  },
  {
   "cell_type": "markdown",
   "source": [
    "## COLUMN PICTURE\n"
   ],
   "metadata": {
    "collapsed": false
   },
   "id": "da89d1a479e9923a"
  },
  {
   "cell_type": "markdown",
   "source": [
    "One vector equation instead of two scalar equations.\n",
    "\n",
    "We are looking for a combination of the columns of $A$ to match $b$.\n",
    "\n",
    "Below figure shows that the right combination (the solution to $x$) has the same $x$= 3 and $y$ = 1 that we found in the row picture."
   ],
   "metadata": {
    "collapsed": false
   },
   "id": "7f05107f31e5f08a"
  },
  {
   "cell_type": "markdown",
   "source": [
    "$$\n",
    "\n",
    "Ax\\:is\\:a\\:combination\\:of\\:columns.\\\\\n",
    "The\\:columns\\:combine\\:to\\:give\\:b.\n",
    "\n",
    "$$\n",
    "\n",
    "$$\n",
    "\n",
    "\\begin{bmatrix}\n",
    "\n",
    "1 & -2  \\\\\n",
    "2 & 3  \\\\\n",
    "\n",
    "\\end{bmatrix}\n",
    "\n",
    "*\n",
    "\\begin{bmatrix}\n",
    "\n",
    "x  \\\\\n",
    "y  \\\\\n",
    "\n",
    "\\end{bmatrix}\n",
    "\n",
    "=\n",
    "\n",
    "x\n",
    "\n",
    "*\n",
    "\n",
    "\\begin{bmatrix}\n",
    "\n",
    "1  \\\\\n",
    "2  \\\\\n",
    "\n",
    "\\end{bmatrix}\n",
    "\n",
    "+\n",
    "y\n",
    "\n",
    "*\n",
    "\n",
    "\\begin{bmatrix}\n",
    "\n",
    "-2  \\\\\n",
    "3  \\\\\n",
    "\n",
    "\\end{bmatrix}\n",
    "\n",
    "=\n",
    "\n",
    "\\begin{bmatrix}\n",
    "\n",
    "1  \\\\\n",
    "9  \\\\\n",
    "\n",
    "\\end{bmatrix}\n",
    "\n",
    "$$"
   ],
   "metadata": {
    "collapsed": false
   },
   "id": "b6c7e600df0f4f5f"
  },
  {
   "cell_type": "markdown",
   "source": [
    "Adding 3 * column 1 to 1 * column 2 gives $b$ as a combination of the columns.\n",
    "\n",
    "$$\n",
    "\n",
    "3\n",
    "\n",
    "*\n",
    "\\begin{bmatrix}\n",
    "\n",
    "1   \\\\\n",
    "2   \\\\\n",
    "\n",
    "\\end{bmatrix}\n",
    "\n",
    "+\n",
    "\n",
    "1\n",
    "\n",
    "*\n",
    "\n",
    "\\begin{bmatrix}\n",
    "\n",
    "-2  \\\\\n",
    " 3  \\\\\n",
    "\n",
    "\\end{bmatrix}\n",
    "\n",
    "= \n",
    "\n",
    "\\begin{bmatrix}\n",
    "\n",
    "1   \\\\\n",
    "9   \\\\\n",
    "\n",
    "\\end{bmatrix}\n",
    "\n",
    "$$\n",
    "\n",
    "$$\n",
    "\n",
    "\\begin{bmatrix}\n",
    "\n",
    "3   \\\\\n",
    "6   \\\\\n",
    "\n",
    "\\end{bmatrix}\n",
    "\n",
    "+\n",
    "\n",
    "\\begin{bmatrix}\n",
    "\n",
    "-2   \\\\\n",
    "3   \\\\\n",
    "\n",
    "\\end{bmatrix}\n",
    "\n",
    "=\n",
    "\n",
    "\\begin{bmatrix}\n",
    "\n",
    "1   \\\\\n",
    "9   \\\\\n",
    "\n",
    "\\end{bmatrix}\n",
    "\n",
    "$$"
   ],
   "metadata": {
    "collapsed": false
   },
   "id": "6d206b242e855040"
  },
  {
   "cell_type": "markdown",
   "source": [
    "![fig_1_5](./fig_1_5.png)"
   ],
   "metadata": {
    "collapsed": false
   },
   "id": "423778f6f118efa6"
  },
  {
   "cell_type": "markdown",
   "source": [],
   "metadata": {
    "collapsed": false
   },
   "id": "4cf32f0e01069a92"
  },
  {
   "cell_type": "markdown",
   "source": [
    "For $n$ = 2, the row picture looked easy.\n",
    "\n",
    "But for n=>3, the column picture wins.\n",
    "\n",
    "Better to draw three column vectors than three planes!\n",
    "\n",
    "Three equations for $x$ = $(x,y,z)$.\n",
    "\n",
    "$$\n",
    "\n",
    "Row\\:Picture\\:in\\:3D=\\:Three\\:planes\\:meet\\:at\\:one\\:point.\\:A\\:plane\\:for\\:each\\:equation.\\\\\n",
    "\n",
    "Column\\:Picture\\:in\\:3D=\\:Three\\:column\\:vectors\\:combine\\:to\\:give\\:the\\:vector\\:b.\\\\\n",
    "\n",
    "$$"
   ],
   "metadata": {
    "collapsed": false
   },
   "id": "36e609816fc5458b"
  },
  {
   "cell_type": "markdown",
   "source": [
    "## SOLVING $Ax$ = $b$ by Elimination"
   ],
   "metadata": {
    "collapsed": false
   },
   "id": "929e260a776e2758"
  },
  {
   "cell_type": "markdown",
   "source": [
    "To visualize three planes meeting in $R^3$ is not easy.\n",
    "\n",
    "And $n$ hyperplanes meeting at a point in $R^n$ is truly mind-bending.\n",
    "\n",
    "A combination of the column vectors is simpler: The matrix $A$ must have 3 (or $n$) independent columns.\n",
    "\n",
    "*The columns must not all lie in the same plane in $R^3$ (or the same hyperplane in $R^n$)*\n",
    "\n",
    "This translates to a statement in algebra:\n",
    "\n",
    "$$\n",
    "\n",
    "Independent\\:Columns=\\\\\n",
    "The\\:only\\:solution\\:to\\:$Ax=0$\\:is\\:the\\:zero\\:vector\\:x=0.\n",
    "\n",
    "$$"
   ],
   "metadata": {
    "collapsed": false
   },
   "id": "2ce7a7c3698ded88"
  },
  {
   "cell_type": "markdown",
   "source": [
    "In words, independence means that the only combination that adds to the zero vector has zero times every column.\n",
    "\n",
    "Then the only solution to $Ax=0$ is $x=0$.\n",
    "\n",
    "When that is true, elimination will solve $Ax=b$ to find the only combination of columns that produces $b$.\n",
    "\n"
   ],
   "metadata": {
    "collapsed": false
   },
   "id": "8b60fcdd564fc081"
  },
  {
   "cell_type": "markdown",
   "source": [
    "Here is the whole idea, column by column, when elimination succeeds in the usual order:\n",
    "\n",
    "**Column 1** : Use equation 1 to create zeros below the first pivot. Pivots cannot be zero!\n",
    "\n",
    "**Column 2** : Use the equation 2 to create zeros below the second pivot.\n",
    "\n",
    "**Column 3 to n** : Keep going to find the upper triangular U: n pivots on its diagonal.  "
   ],
   "metadata": {
    "collapsed": false
   },
   "id": "28ef0caa5a648668"
  },
  {
   "cell_type": "markdown",
   "source": [
    "$$\n",
    "\n",
    "Step 1\n",
    "\n",
    "\\begin{bmatrix}\n",
    "\n",
    "x & x & x & x    \\\\\n",
    "0 & x & x & x    \\\\\n",
    "0 & x & x & x    \\\\\n",
    "0 & x & x & x    \\\\\n",
    "\n",
    "\\end{bmatrix}\n",
    "\n",
    "\n",
    "Step2\n",
    "\n",
    "\\begin{bmatrix}\n",
    "\n",
    "x & x & x & x    \\\\\n",
    "0 & x & x & x    \\\\\n",
    "0 & 0 & x & x    \\\\\n",
    "0 & 0 & x & x    \\\\\n",
    "\n",
    "\\end{bmatrix}\n",
    "\n",
    "Final\\:U\n",
    "\n",
    "\\begin{bmatrix}\n",
    "\n",
    "x & x & x & x    \\\\\n",
    " & x & x & x    \\\\\n",
    " &  & x & x    \\\\\n",
    " &  &  & x    \\\\\n",
    "\n",
    "\\end{bmatrix}\n",
    "\n",
    "$$"
   ],
   "metadata": {
    "collapsed": false
   },
   "id": "ac8f87ddf2bac11d"
  },
  {
   "cell_type": "markdown",
   "source": [
    "Row 1 is the first pivot row - it does not change.\n",
    "\n",
    "I multiplied that row by numbers $l_2 _1$, $l_3 _1$, $l_4 _1$ and subtracted from rows 2,3,4 or A.\n",
    "\n",
    "The numbers to get zeros in the first column were\n",
    "\n",
    "$$\n",
    "\n",
    "Multipliers: \\:\\: \\\\\n",
    "l_2 _1 = \\frac{a_2 _1}{a_1 _1} \\\\\n",
    "\n",
    "\\:\\: l_3 _1 = \\frac{a_3 _1}{a_1 _1} \\\\\n",
    "\n",
    "\\:\\: l_4 _1 = \\frac{a_4 _1}{a_1 _1}\n",
    "\n",
    "\n",
    "$$"
   ],
   "metadata": {
    "collapsed": false
   },
   "id": "f5981daa9289d829"
  },
  {
   "cell_type": "markdown",
   "source": [
    "If the corner entry is $a_1 _1$=3=first pivot, and $a_2 _1$ below it is 12, then $l_2 _1$=12/3 = 4.\n"
   ],
   "metadata": {
    "collapsed": false
   },
   "id": "3fc01fc5903065fb"
  },
  {
   "cell_type": "markdown",
   "source": [
    "Step 2 uses the new row 2 (the second pivot row).\n",
    "\n",
    "Multiply that row by $l_3 _2$ and $l_4 _2$.\n",
    "\n",
    "Subtract from rows 3 and 4 to get zeros in the second column. Continue all the way to U.\n"
   ],
   "metadata": {
    "collapsed": false
   },
   "id": "84f2c600b4307c70"
  },
  {
   "cell_type": "markdown",
   "source": [
    "So far we have worked on the matrix A (not on b).\n",
    "\n",
    "Elimination on A needs $\\frac{1}{3}$$n^3$ separate multiplications and additions -far more than the $n^2$ steps for each right hand side b.\n",
    "\n",
    "We need a record of that work, and the perfect format is a product **A=LU** of triangular matrices: **lower triangular L times upper triangular U**.\n"
   ],
   "metadata": {
    "collapsed": false
   },
   "id": "6b007739c159d292"
  },
  {
   "cell_type": "markdown",
   "source": [
    "## THE FACTORIZATION A=LU"
   ],
   "metadata": {
    "collapsed": false
   },
   "id": "62be81802fffb1d7"
  },
  {
   "cell_type": "markdown",
   "source": [
    "**How is the original A related to the final matrix U?**\n",
    "\n",
    "The multipliers $l_i _j$ got us there in three steps.\n",
    "\n",
    "The first step reduced the 4 by 4 problem to a 3 by 3 problem by removing multipliers of row 1.\n",
    "\n",
    "$$\n",
    "\n",
    "Key\\:Idea:\\:Step\\:1\\:removes\\:l_1 u_1^* \\\\\n",
    "\n",
    "A\n",
    "\n",
    "=\n",
    "\n",
    "\\begin{bmatrix}\n",
    "\n",
    "1\\: times\\: row\\: 1    \\\\\n",
    "l_2 _1\\: times\\: row\\: 1     \\\\\n",
    "l_3 _1  \\:times \\:row\\: 1     \\\\\n",
    "l_4 _1  \\:times\\: row\\: 1     \\\\\n",
    "\n",
    "\\end{bmatrix}\n",
    "\n",
    "+\n",
    "\n",
    "\\begin{bmatrix}\n",
    "\n",
    "0 & 0 & 0 & 0    \\\\\n",
    "0 & A_2 & A_2 & A_2    \\\\\n",
    "0 & A_2 & A_2 & A_2    \\\\\n",
    "0 & A_2 & A_2 & A_2    \\\\\n",
    "\n",
    "\\end{bmatrix}\n",
    "\n",
    "$$"
   ],
   "metadata": {
    "collapsed": false
   },
   "id": "489d47987b67dd65"
  },
  {
   "cell_type": "markdown",
   "source": [
    "What have we done?\n",
    "\n",
    "The first matrix on the right was removed from A.\n",
    "\n",
    "That removed matrix is a column vector 1, $l_2 _1$, $l_3 _1$, $l_4 _1$ times row 1.\n",
    "\n",
    "**It is the rank 1 matrix $l_1 u_1^*$**"
   ],
   "metadata": {
    "collapsed": false
   },
   "id": "4e2a8b941a09ff28"
  },
  {
   "cell_type": "markdown",
   "source": [
    "$$\n",
    "\n",
    "3\\:by\\:3\\:example:\\: \\\\\n",
    "Remove\\:rank\\:1\\:matrix\\: \\\\\n",
    "Column\\:/\\:Row\\:to\\:Zero\\\\\n",
    "\n",
    "\\begin{bmatrix}\n",
    "\n",
    "1 & 2 & 3     \\\\\n",
    "2 & 5 & 7     \\\\\n",
    "2 & 7 & 8     \\\\\n",
    "\n",
    "\\end{bmatrix}\n",
    "\n",
    "-\n",
    "\n",
    "\\begin{bmatrix}\n",
    "\n",
    "1 & 2 & 3     \\\\\n",
    "2 & 4 & 6     \\\\\n",
    "2 & 4 & 6     \\\\\n",
    "\n",
    "\\end{bmatrix}\n",
    "\n",
    "=\n",
    "\n",
    "\\begin{bmatrix}\n",
    "\n",
    "0 & 0 & 0     \\\\\n",
    "0 & 1 & 1     \\\\\n",
    "0 & 3 & 2     \\\\\n",
    "\n",
    "\\end{bmatrix}\n",
    "\n",
    "=\n",
    "\n",
    "\\begin{bmatrix}\n",
    "\n",
    "0 & 0 & 0     \\\\\n",
    "0 & A_2 & A_2     \\\\\n",
    "0 & A_2 & A_2     \\\\\n",
    "\n",
    "\\end{bmatrix}\n",
    "\n",
    "\n",
    "$$"
   ],
   "metadata": {
    "collapsed": false
   },
   "id": "3f28dbf883631b72"
  },
  {
   "cell_type": "markdown",
   "source": [
    "The next step deals with column 2 of the remaining matrix $A_2$.\n",
    "\n",
    "The new row 2 is $u^*_2$=second pivot row.\n",
    " \n",
    "We multiply it by $l_1 _2$ = 0 and  $l_2 _2$=1 and  $l_3 _2$ and  $l_4 _2$.\n",
    "\n",
    "Then subtract  $l_2 u_2^*$ from the four rows.\n",
    "\n",
    "Now row 2 is also zero and $A_2$ shrinks down to $A_3$.\n",
    "\n",
    "$$\n",
    "\n",
    "Step\\:2:\\\\\n",
    "\n",
    "A=l_1 u_1^*\n",
    "\n",
    "+\n",
    "\\begin{bmatrix}\n",
    "\n",
    "0\\: times\\:pivot\\: row\\: 2    \\\\\n",
    "1\\: times\\:pivot\\: row\\: 2     \\\\\n",
    "l_3 _2  \\:times \\:row\\: 2     \\\\\n",
    "l_4 _2  \\:times\\: row\\: 2     \\\\\n",
    "\n",
    "\\end{bmatrix}\n",
    "\n",
    "+\n",
    "\\begin{bmatrix}\n",
    "\n",
    "0 & 0 & 0 & 0     \\\\\n",
    "0 & 0 & 0 & 0     \\\\\n",
    "0 & 0 & A_3 & A_3     \\\\\n",
    "0 & 0 & A_3 & A_3     \\\\\n",
    "\n",
    "\\end{bmatrix}\n",
    "\n",
    "\n",
    "$$ "
   ],
   "metadata": {
    "collapsed": false
   },
   "id": "4292ee3d81a25068"
  },
  {
   "cell_type": "markdown",
   "source": [
    "That step was a rank one removal of $l_2 u_2^*$ with $l_2$ = (0,1, $l_3 _2$, $l_4 _2$) and $u_2^*$ = pivot row 2.\n",
    "\n",
    "Step 3 will reduce the 2 by 2 matrix $A_3$ to a single number $A_4$ (1 by 1).\n",
    "\n",
    "At this point, the pivot row $u_3^*$= row 1 of $A_3$ has only two non_zeros. and the column $l_3$ is (0,0,1,$l_4 _3$).\n",
    "\n",
    "This way of looking at elimination, a column at a time, directly produces $A=LU$.\n",
    "\n",
    "That matrix multiplication LU is always a sum of columns of $L$ times rows of $U$:"
   ],
   "metadata": {
    "collapsed": false
   },
   "id": "2382e2e74c953283"
  },
  {
   "cell_type": "markdown",
   "source": [
    "$$\n",
    "\n",
    "A=l_1 u_1^* + l_2 u_3^* + l_3 u_3^* + l_4 u_4^*\n",
    "\n",
    "=\n",
    "\\\\\n",
    "=\n",
    "\\begin{bmatrix}\n",
    "\n",
    "1 & 0 & 0 & 0     \\\\\n",
    "l_2 _1 & 1 & 0 & 0     \\\\\n",
    "l_3 _1 & l_3 _2 & 1 & 0     \\\\\n",
    "l_4 _1 & l_4 _2 & l_4 _3 & 1     \\\\\n",
    "\n",
    "\\end{bmatrix}\n",
    "\n",
    "\n",
    "*\n",
    "\n",
    "\\begin{bmatrix}\n",
    "\n",
    "pivot\\: row\\: 1    \\\\\n",
    "pivot\\: row\\: 2     \\\\\n",
    "pivot\\: row\\: 3     \\\\\n",
    "pivot\\: row\\: 4     \\\\\n",
    "\n",
    "\\end{bmatrix}\n",
    "\n",
    "=\n",
    "\n",
    "\\\\\n",
    "\n",
    "= L*U\n",
    "\n",
    "\n",
    "\n",
    "\n",
    "\n",
    "$$"
   ],
   "metadata": {
    "collapsed": false
   },
   "id": "552c474e1d578610"
  },
  {
   "cell_type": "markdown",
   "source": [
    "-----------------------------------\n",
    "**Elimination factored A=LU into a lower triangular L times an upper triangular U.**\n",
    "\n",
    "\n",
    "-----------------------------------"
   ],
   "metadata": {
    "collapsed": false
   },
   "id": "3444c4fc70596fdd"
  },
  {
   "cell_type": "markdown",
   "source": [
    "## NOTES on the LU Factorization\n"
   ],
   "metadata": {
    "collapsed": false
   },
   "id": "4d17b2f80a59556a"
  },
  {
   "cell_type": "markdown",
   "source": [
    "We developed $A=LU$ from the key idea of elimination:\n",
    "\n",
    "Reduce the problem size from $n$ to $n-1$ by elimination $x_1$ from the last $n-1$ equations.\n",
    "\n",
    "We subtracted multiples of row 1 (the pivot row).\n",
    "\n",
    "So the matrix we removed had rank one.\n",
    "\n",
    "After $n$ steps, the whole matrix A is a sum of $n$ rank one matrices.\n",
    "\n",
    "That sum-by the column times row rule for matirx multiplication is exactly L times U.\n",
    "\n",
    "This proof is not in my other textbook. \n",
    "\n",
    "The idea there was to look at rows of U instead of working with columns of A.\n",
    "\n",
    "Row 3 came from subtracting multiples of pivot rows 1 and 2 from row 3 of A:\n",
    "\n",
    "Row 3 of U = (row 3 of A) - $l_3 _1$(row 1 of U) - $l_3 _2$(row 2 of U)\n",
    "\n",
    "Rewrite this equation to see that row [$l_3 _1$,$l_3 _2$, 1] of L is multiplying the matrix U:\n",
    "\n",
    "Row 3 of U =  $l_3 _1$(row 1 of U) + $l_3 _2$(row 2 of U) + 1 (row 3 of U)\n",
    "\n",
    "**This is row 3 of A=LU.**\n",
    "\n",
    "The key is that the subtracted rows were pivot rows and already in U.\n",
    "\n",
    "**With no row exchanges, we have again found A=LU.**"
   ],
   "metadata": {
    "collapsed": false
   },
   "id": "3ac92000dd6f12bb"
  },
  {
   "cell_type": "markdown",
   "source": [
    "## The SOLUTION to $Ax=b$"
   ],
   "metadata": {
    "collapsed": false
   },
   "id": "4dc9de9156b471af"
  },
  {
   "cell_type": "markdown",
   "source": [
    "We must apply the same operations to the right side of an equation and to the left side.\n",
    "\n",
    "The direct way is to include $b$ as an additional column-we work with the matrix [A $b$]\n",
    "\n",
    "Now our elimination steps on $A$ (they multiplied $A$ by $L^-^1$ to give $U$) act also on $b$."
   ],
   "metadata": {
    "collapsed": false
   },
   "id": "f0252064656dac87"
  },
  {
   "cell_type": "markdown",
   "source": [
    "$$\n",
    "\n",
    "Start\\:from\\:\n",
    "\n",
    "\n",
    "\\begin{bmatrix}\n",
    "\n",
    " & & & &   \\\\\n",
    " & & A & b &   \\\\\n",
    " & & & &   \\\\\n",
    "\n",
    "\\end{bmatrix}\n",
    "\n",
    "=\n",
    "\\begin{bmatrix}\n",
    "\n",
    " & & & &   \\\\\n",
    " & & LU & b &   \\\\\n",
    " & & & &   \\\\\n",
    "\n",
    "\\end{bmatrix}\n",
    "\n",
    "\\\\\n",
    "\n",
    "Elimination\\:produces=\\\\\n",
    "\n",
    "\\begin{bmatrix}\n",
    "\n",
    " & & & &   \\\\\n",
    " & & U & L^-^1b &   \\\\\n",
    " & & & &   \\\\\n",
    "\n",
    "\\end{bmatrix}\n",
    "$$\n",
    "=\n",
    "$$\n",
    "\n",
    "\\begin{bmatrix}\n",
    "\n",
    " & & & &   \\\\\n",
    " & & U & c &   \\\\\n",
    " & & & &   \\\\\n",
    "\n",
    "\\end{bmatrix}\n",
    "\n",
    "$$"
   ],
   "metadata": {
    "collapsed": false
   },
   "id": "e26c1124a49d86e9"
  },
  {
   "cell_type": "markdown",
   "source": [
    "The steps from $A$ to $U$ (upper triangular) will change the right side $b$ to $c$.\n",
    "\n",
    "**Elimination on $Ax=b$ produces the equation $Ux = c$ that are ready for back substitution.**\n",
    "\n",
    "$$\n",
    "\n",
    "2x\\:+\\:3y\\:=\\:8 \\\\\n",
    "4x\\:+\\:7y\\:=\\:18 \\\\\n",
    "\n",
    "\n",
    "\n",
    "$$\n",
    "=\n",
    "$$\n",
    "\n",
    "\n",
    "\\begin{bmatrix}\n",
    "\n",
    "2 & 3 & 8      \\\\\n",
    "4 & 7 & 18      \\\\\n",
    "\n",
    "\n",
    "\\end{bmatrix}\n",
    "$$\n",
    "=\n",
    "$$\n",
    "\\begin{bmatrix}\n",
    "\n",
    "2 & 3 & 8      \\\\\n",
    "0 & 1 & 2      \\\\\n",
    "\n",
    "\n",
    "\\end{bmatrix}\n",
    "\n",
    "$$\n",
    "=\n",
    "$$\n",
    "\n",
    "\\begin{bmatrix}\n",
    "\n",
    " & & & &   \\\\\n",
    " & & U & c &   \\\\\n",
    " & & & &   \\\\\n",
    "\n",
    "\\end{bmatrix}\n",
    "\n",
    "$$\n",
    "\n",
    "\n",
    "\n"
   ],
   "metadata": {
    "collapsed": false
   },
   "id": "31e5a0735e12d9a2"
  },
  {
   "cell_type": "markdown",
   "source": [
    "$L$ subtracted 2 times row 1 from row 2.\n",
    "\n",
    "Then the triangular system $Ux=c$ is solved upwards -- **back substitution**-- from bottom to top:\n",
    "\n",
    "$ 2x + 3y = 8 $ \\\\\n",
    "$ 1y = 2 $ \\\\\n",
    " \n",
    "gives $y=2$ and then $x=1$.\n",
    "\n",
    "$Ux=c$ gives $x$ = $U^-^1c$\n",
    "\n",
    "Looking closely, the square system $Ax=b$ became two triangular system:\n"
   ],
   "metadata": {
    "collapsed": false
   },
   "id": "fcf6f4cb498e057f"
  },
  {
   "cell_type": "markdown",
   "source": [
    "-----------------------------------------\n",
    "\n",
    "$Ax=b$ split into $Lc=b$ and $Ux=c$.\n",
    "\n",
    "Elimination gave c and back substitution gave x.\n",
    "\n",
    "-----------------------------------\n"
   ],
   "metadata": {
    "collapsed": false
   },
   "id": "c3c3b47ff70d80cc"
  },
  {
   "cell_type": "markdown",
   "source": [
    "The final result is $x=U^-^1c$ = $U^-^1 L^-^1 b$ = $A^- ^1 b$\n",
    "\n",
    "The correct solution has been found.\n"
   ],
   "metadata": {
    "collapsed": false
   },
   "id": "bd66789ae066c96f"
  },
  {
   "cell_type": "markdown",
   "source": [
    "**Please notice:**\n",
    "\n",
    "**Those steps required nonzero pivots. We divided by those numbers.**\n",
    "\n",
    "The first pivot was $a_1 _1$. The second pivot was in the corner of $A_2$, and the $nth$ pivot was in the 1 by 1 matrix $A_n$.\n",
    "\n",
    "These numbers ended up on the main diagonal of U.\n",
    "\n"
   ],
   "metadata": {
    "collapsed": false
   },
   "id": "c964267896036c63"
  },
  {
   "cell_type": "markdown",
   "source": [
    "**What do we do if $a_1 _1$ = 0?**\n",
    "\n",
    "Zero cannot be the first pivot.\n",
    "\n",
    "If there is a nonzero number lower down in column 1 its row can be the pivot row.\n",
    "\n",
    "**Good codes will choose the largest number to be the pivot.**\n",
    "\n",
    "They do this to reduce errors, even if $a_1 _1$ is not zero.\n",
    "\n",
    "We look next at the effect of those row exchanges on $A=LU$.\n",
    "\n",
    "A matrix P will enter. \n"
   ],
   "metadata": {
    "collapsed": false
   },
   "id": "ab3baa48ec842526"
  },
  {
   "cell_type": "markdown",
   "source": [
    "## ROW EXCHANGES (PERMUTATION)"
   ],
   "metadata": {
    "collapsed": false
   },
   "id": "52665fd6b058f8a6"
  },
  {
   "cell_type": "markdown",
   "source": [
    "Here is the largest number in column 1 is found in row 3: $a_3 _1$ = 2\n",
    "\n",
    "**Row 3 will be the first pivot row $u^* _1$.**\n",
    "\n",
    "That row is multiplied by $l_2 _1$ = $\\frac{1}{2}$ and subtracted from row 2.\n",
    "\n",
    "$$\n",
    "\n",
    "u^* _1=\\:row\\:3\\:of\\:A\\:=\\:first\\:pivot\\:row\n",
    "$$\n",
    "\n",
    "$$\n",
    "\n",
    "A\n",
    "\n",
    "=\n",
    "\n",
    "\\begin{bmatrix}\n",
    "\n",
    "0 & 1 & 1      \\\\\n",
    "1 & 3 & 7      \\\\\n",
    "2 & 4 & 8      \\\\\n",
    "\n",
    "\\end{bmatrix}\n",
    "\n",
    "-->\n",
    "\n",
    "\\begin{bmatrix}\n",
    "\n",
    "0 & 1 & 1      \\\\\n",
    "0 & 1 & 3      \\\\\n",
    "2 & 4 & 8      \\\\\n",
    "\n",
    "\\end{bmatrix}\n",
    "\n",
    "$$"
   ],
   "metadata": {
    "collapsed": false
   },
   "id": "ba886af68c76e6c8"
  },
  {
   "cell_type": "markdown",
   "source": [
    "Again that elimination step removed a rank one matrix $l_1 u^* _1$. But $A_2$ is in a new place.\n",
    "\n",
    "$$\n",
    "\n",
    "\\begin{bmatrix}\n",
    "\n",
    "0 & 1 & 1      \\\\\n",
    "1 & 3 & 7      \\\\\n",
    "2 & 4 & 8      \\\\\n",
    "\n",
    "\\end{bmatrix}\n",
    "\n",
    "=\n",
    "\n",
    "\\begin{bmatrix}\n",
    "\n",
    "0       \\\\\n",
    "1/2      \\\\\n",
    "1      \\\\\n",
    "\n",
    "\\end{bmatrix}\n",
    "\n",
    "*\n",
    "\n",
    "\\begin{bmatrix}\n",
    "\n",
    "2 & 4 & 8      \\\\\n",
    "\\end{bmatrix}\n",
    "\n",
    "+\n",
    "\n",
    "\n",
    "\\begin{bmatrix}\n",
    "\n",
    "0 & |1 & 1|      \\\\\n",
    "0 & |1 & 3|      \\\\\n",
    "0 & 0 & 0      \\\\\n",
    "\n",
    "\\end{bmatrix}\n",
    "\n",
    "<-- A_2\n",
    "$$"
   ],
   "metadata": {
    "collapsed": false
   },
   "id": "60e6bc63ee8fa0f0"
  },
  {
   "cell_type": "markdown",
   "source": [
    "Elimination on $A_2$ produces two more rank one pieces.\n",
    "\n",
    "Then $A=LU$ has three pieces:\n",
    "\n",
    "$$\n",
    "\n",
    "l_1 u^* _1\n",
    "\n",
    "+\n",
    "\n",
    "\\begin{bmatrix}\n",
    "\n",
    "1 \\\\\n",
    "1 \\\\\n",
    "0 \\\\\n",
    "\n",
    "\\end{bmatrix}\n",
    "\n",
    "*\n",
    "\n",
    "\\begin{bmatrix}\n",
    "\n",
    "0 & 1 & 1 \\\\\n",
    "\n",
    "\\end{bmatrix}\n",
    "\n",
    "+\n",
    "\n",
    "\\begin{bmatrix}\n",
    "\n",
    "0 \\\\\n",
    "1 \\\\\n",
    "0 \\\\\n",
    "\n",
    "\\end{bmatrix}\n",
    "\n",
    "*\n",
    "\n",
    "\\begin{bmatrix}\n",
    "\n",
    "0 & 0 & 2 \\\\\n",
    "\n",
    "\\end{bmatrix}\n",
    "\n",
    "=\n",
    "\n",
    "\\begin{bmatrix}\n",
    "\n",
    "0 & 1 & 0 \\\\\n",
    "1/2 & 1 & 1 \\\\\n",
    "1 & 0 & 0 \\\\\n",
    "\n",
    "\\end{bmatrix}\n",
    "\n",
    "*\n",
    "\n",
    "\\begin{bmatrix}\n",
    "\n",
    "2 & 4 & 8 \\\\\n",
    "0 & 1 & 1 \\\\\n",
    "0 & 0 & 2 \\\\\n",
    "\n",
    "\\end{bmatrix}\n",
    "\n",
    "$$"
   ],
   "metadata": {
    "collapsed": false
   },
   "id": "a156d02a8994551c"
  },
  {
   "cell_type": "markdown",
   "source": [
    "That matrix $U$ is triangular but the $L$ matrix is not!!\n",
    "\n",
    "The pivot order for this A was 3,1,2.\n",
    "\n",
    "If we want the pivot rows to be 1,2,3, we must move row 3 to A to the top:\n",
    "\n",
    "$$\n",
    "\n",
    "Row\\:exchange\\:by\\:a\\:permutation\\:P: \\\\\n",
    "\n",
    "PA\n",
    "\n",
    "=\n",
    "\n",
    "\\begin{bmatrix}\n",
    "\n",
    "0 & 0 & 1 \\\\\n",
    "1 & 0 & 0 \\\\\n",
    "0 & 1 & 0 \\\\\n",
    "\n",
    "\\end{bmatrix}\n",
    "\n",
    "*\n",
    "\n",
    "\n",
    "\\begin{bmatrix}\n",
    "\n",
    "0 & 1 & 1 \\\\\n",
    "1 & 3 & 7 \\\\\n",
    "2 & 4 & 8 \\\\\n",
    "\n",
    "\\end{bmatrix}\n",
    "\n",
    "=\n",
    "\n",
    "\\begin{bmatrix}\n",
    "\n",
    "2 & 4 & 8 \\\\\n",
    "0 & 1 & 1 \\\\\n",
    "1 & 3 & 7 \\\\\n",
    "\n",
    "\\end{bmatrix}\n",
    "\n",
    "$$"
   ],
   "metadata": {
    "collapsed": false
   },
   "id": "345251d3abe3fc1e"
  },
  {
   "cell_type": "markdown",
   "source": [
    "When both sides of $Ax=b$ are multiplied by P, order is restored and $PA$ = $LU$:\n",
    "\n",
    "\n",
    "$$\n",
    "\n",
    "PA\n",
    "\n",
    "=\n",
    "\n",
    "\\begin{bmatrix}\n",
    "\n",
    "2 & 4 & 8 \\\\\n",
    "0 & 1 & 1 \\\\\n",
    "1 & 3 & 7 \\\\\n",
    "\n",
    "\\end{bmatrix}\n",
    "\n",
    "=\n",
    "\n",
    "\\begin{bmatrix}\n",
    "\n",
    "1 & 0 & 0 \\\\\n",
    "0 & 1 & 0 \\\\\n",
    "1/2 & 1 & 1 \\\\\n",
    "\n",
    "\\end{bmatrix}\n",
    "\n",
    "*\n",
    "\n",
    "\\begin{bmatrix}\n",
    "\n",
    "2 & 4 & 8 \\\\\n",
    "0 & 1 & 1 \\\\\n",
    "0 & 0 & 2 \\\\\n",
    "\n",
    "\\end{bmatrix}\n",
    "\n",
    "=\n",
    "\n",
    "LU\n",
    "\n",
    "$$"
   ],
   "metadata": {
    "collapsed": false
   },
   "id": "6e4c5074f166c809"
  },
  {
   "cell_type": "markdown",
   "source": [
    "--------------------------------------------\n",
    "\n",
    "**Every invertible n by n matrix A leads to PA = LU : P = permutation.**\n",
    "\n",
    "----------------------------------------------"
   ],
   "metadata": {
    "collapsed": false
   },
   "id": "36ad247c3eb89716"
  },
  {
   "cell_type": "markdown",
   "source": [
    "**There are six 3 by 3 permutation:**\n",
    "\n",
    "Six ways to order the rows of the identity matrix.\n",
    "\n",
    "$$\n",
    "\n",
    "1\\:exchange\\:(odd\\:P)\\: ->\n",
    "\n",
    "P_2 _1 _3 \n",
    "\n",
    "=\n",
    "\n",
    "\\begin{bmatrix}\n",
    "\n",
    "0 & 1 & 0 \\\\\n",
    "1 & 0 & 0 \\\\\n",
    "0 & 0 & 1 \\\\\n",
    "\n",
    "\\end{bmatrix}\n",
    "\n",
    "P_3 _2 _1 \n",
    "\n",
    "=\n",
    "\n",
    "\\begin{bmatrix}\n",
    "\n",
    "0 & 0 & 1 \\\\\n",
    "0 & 1 & 0 \\\\\n",
    "1 & 0 & 0 \\\\\n",
    "\n",
    "\\end{bmatrix}\n",
    "\n",
    "P_1 _3 _2 \n",
    "\n",
    "=\n",
    "\n",
    "\\begin{bmatrix}\n",
    "\n",
    "1 & 0 & 0 \\\\\n",
    "0 & 0 & 1 \\\\\n",
    "0 & 1 & 0 \\\\\n",
    "\n",
    "\\end{bmatrix}\n",
    "\n",
    "$$\n",
    "\n",
    "\n",
    "$$\n",
    "0\\:or\\:2\\:exchange\\:(even\\:P)\\:->\n",
    "\n",
    "P_1 _2 _3 \n",
    "\n",
    "=\n",
    "\n",
    "\\begin{bmatrix}\n",
    "\n",
    "1 &  &  \\\\\n",
    " & 1 &  \\\\\n",
    " &  & 1 \\\\\n",
    "\n",
    "\\end{bmatrix}\n",
    "\n",
    "P_3 _1 _2 \n",
    "\n",
    "=\n",
    "\n",
    "\\begin{bmatrix}\n",
    "\n",
    "0 & 0 & 1 \\\\\n",
    "1 & 0 & 0 \\\\\n",
    "0 & 1 & 0 \\\\\n",
    "\n",
    "\\end{bmatrix}\n",
    "\n",
    "P_2 _3 _1 \n",
    "\n",
    "=\n",
    "\n",
    "\\begin{bmatrix}\n",
    "\n",
    "0 & 1 & 0 \\\\\n",
    "0 & 0 & 1 \\\\\n",
    "1 & 0 & 0 \\\\\n",
    "\n",
    "\\end{bmatrix}\n",
    "\n",
    "\n",
    "$$"
   ],
   "metadata": {
    "collapsed": false
   },
   "id": "bddbc6a11343b349"
  },
  {
   "cell_type": "markdown",
   "source": [
    "**The inverse of every permutation matrix $P$ is its transpose $P^T$.**\n",
    "\n",
    "The row exchanges will also apply to the right hand side $b$ if we are solving $Ax=b$.\n",
    "\n",
    "The computer just remembers the exchanges without actually moving the rows.\n",
    "\n",
    "There are $n!$ permutation matrices of size n: 3! = 3 * 2 * 1 = 6.\n",
    "\n",
    "When A has dependent rows (no inverse) elimination leads to a zero row and stos short."
   ],
   "metadata": {
    "collapsed": false
   },
   "id": "3ea6cde8482eed05"
  }
 ],
 "metadata": {
  "kernelspec": {
   "display_name": "Python 3",
   "language": "python",
   "name": "python3"
  },
  "language_info": {
   "codemirror_mode": {
    "name": "ipython",
    "version": 2
   },
   "file_extension": ".py",
   "mimetype": "text/x-python",
   "name": "python",
   "nbconvert_exporter": "python",
   "pygments_lexer": "ipython2",
   "version": "2.7.6"
  }
 },
 "nbformat": 4,
 "nbformat_minor": 5
}
